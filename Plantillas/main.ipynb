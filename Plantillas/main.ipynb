{
 "metadata": {
  "language_info": {
   "codemirror_mode": {
    "name": "ipython",
    "version": 3
   },
   "file_extension": ".py",
   "mimetype": "text/x-python",
   "name": "python",
   "nbconvert_exporter": "python",
   "pygments_lexer": "ipython3",
   "version": "3.9.0-final"
  },
  "orig_nbformat": 2,
  "kernelspec": {
   "name": "python3",
   "display_name": "Python 3.9.0 64-bit",
   "metadata": {
    "interpreter": {
     "hash": "ac59ebe37160ed0dfa835113d9b8498d9f09ceb179beaac4002f036b9467c963"
    }
   }
  }
 },
 "nbformat": 4,
 "nbformat_minor": 2,
 "cells": [
  {
   "cell_type": "code",
   "execution_count": 1,
   "metadata": {},
   "outputs": [],
   "source": [
    "import pandas as pd\n",
    "import numpy as np"
   ]
  },
  {
   "cell_type": "code",
   "execution_count": 2,
   "metadata": {},
   "outputs": [],
   "source": [
    "from src import titan_class as titan"
   ]
  },
  {
   "cell_type": "code",
   "execution_count": 3,
   "metadata": {},
   "outputs": [
    {
     "output_type": "stream",
     "name": "stdout",
     "text": [
      "\t\tGeneral info on the df:\nShape\n     Shape     \n0     Rows  891\n1  Columns   12\n------------------ \n\nData type and NaNs\n        Columns Data type  NaNs in column\n0   PassengerId     int64               0\n1      Survived     int64               0\n2        Pclass     int64               0\n3          Name    object               0\n4           Sex    object               0\n5           Age   float64             177\n6         SibSp     int64               0\n7         Parch     int64               0\n8        Ticket    object               0\n9          Fare   float64               0\n10        Cabin    object             687\n11     Embarked    object               2\n\nChanging type using the column's name...\nChanged from int64 to object\n\nChanging type using the column's position...\nChanged from int64 to bool\n"
     ]
    }
   ],
   "source": [
    "titan_frame = titan.Titan(path= 'C:\\\\Users\\\\Diomedes\\\\Documents\\\\Python\\\\Data_for_bootcamp\\\\titanic.csv')\n",
    "df = titan_frame.create_df(wish= True)\n",
    "titan_frame.general_info()\n",
    "titan_frame.value_changer(column='PassengerId', choice= 'str')\n",
    "titan_frame.value_changer(position=1, choice= 'bool')\n",
    "\n",
    "# titan_frame.value_changer(position=5, choice= 'int64')"
   ]
  },
  {
   "cell_type": "code",
   "execution_count": 4,
   "metadata": {},
   "outputs": [
    {
     "output_type": "execute_result",
     "data": {
      "text/plain": [
       "dtype('O')"
      ]
     },
     "metadata": {},
     "execution_count": 4
    }
   ],
   "source": [
    "df['PassengerId'].astype('str').dtype"
   ]
  }
 ]
}