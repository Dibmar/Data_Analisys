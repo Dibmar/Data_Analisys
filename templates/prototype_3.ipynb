{
 "metadata": {
  "language_info": {
   "codemirror_mode": {
    "name": "ipython",
    "version": 3
   },
   "file_extension": ".py",
   "mimetype": "text/x-python",
   "name": "python",
   "nbconvert_exporter": "python",
   "pygments_lexer": "ipython3",
   "version": "3.8.8-final"
  },
  "orig_nbformat": 2,
  "kernelspec": {
   "name": "python3",
   "display_name": "Python 3.8.8 64-bit",
   "metadata": {
    "interpreter": {
     "hash": "1baa965d5efe3ac65b79dfc60c0d706280b1da80fedb7760faf2759126c4f253"
    }
   }
  }
 },
 "nbformat": 4,
 "nbformat_minor": 2,
 "cells": [
  {
   "cell_type": "code",
   "execution_count": 1,
   "metadata": {},
   "outputs": [],
   "source": [
    "from src import sql_connector as sql\n",
    "from src import titan_class as titan"
   ]
  },
  {
   "cell_type": "code",
   "execution_count": 2,
   "metadata": {},
   "outputs": [
    {
     "output_type": "stream",
     "name": "stdout",
     "text": [
      "Succesfull connection to warhammer_6th, in schema warhammer_6th_SP\n"
     ]
    }
   ],
   "source": [
    "database = sql.PostgreSQL_manager(path='C:\\\\Users\\\\Diomedes\\\\Documents\\\\Python\\\\Mi_Git\\\\Data_Analisys\\\\templates\\\\src\\\\settings.json')\n",
    "database.read_config()\n",
    "database.CREATE_a_postgre_db()"
   ]
  },
  {
   "cell_type": "code",
   "execution_count": 3,
   "metadata": {},
   "outputs": [
    {
     "output_type": "stream",
     "name": "stdout",
     "text": [
      "\nSELECT * FROM \"warhammer_6th_SP\".facciones\nORDER BY cod_faccion ASC; \n\n   cod_faccion          nombre_fac\n0        BRETO            Bretonia\n1        CDWAR     Enanos del Caos\n2        CHWAR  Guerreros del Caos\n3        DELFS       Elfos Oscuros\n4        DWARK       Reinos Enanos\n5        EMPIR          El Imperio\n6        HELFS         Altos Elfos\n7        KISLV              Kislev\n8        LZARD     Hombres Lagarto\n9        OGREK        Reinos Ogros\n10       ORCTR     Orcos y Goblins\n11       SKVEN              Skaven\n12       TKING    Reyes Funerarios\n13       VCONT      Condes Vampiro\n14       WELFS      Elfos Silvanos\nReturning your query\n"
     ]
    }
   ],
   "source": [
    "query= \"\"\"\n",
    "SELECT * FROM \"warhammer_6th_SP\".facciones\n",
    "ORDER BY cod_faccion ASC; \n",
    "\"\"\"\n",
    "\n",
    "uno = database.ORDER_custom_query(query= query, wish= True)"
   ]
  },
  {
   "cell_type": "code",
   "execution_count": 4,
   "metadata": {},
   "outputs": [
    {
     "output_type": "stream",
     "name": "stdout",
     "text": [
      "\n        SELECT *\n        FROM pg_catalog.pg_tables\n        WHERE schemaname = 'warhammer_6th_SP'\n        \n         schemaname          tablename tableowner tablespace  hasindexes  \\\n0  warhammer_6th_SP          facciones   postgres       None        True   \n1  warhammer_6th_SP           unidades   postgres       None        True   \n2  warhammer_6th_SP           perfiles   postgres       None       False   \n3  warhammer_6th_SP  reglas_especiales   postgres       None        True   \n4  warhammer_6th_SP             equipo   postgres       None        True   \n5  warhammer_6th_SP             dioses   postgres       None       False   \n\n   hasrules  hastriggers  rowsecurity  \n0     False        False        False  \n1     False        False        False  \n2     False        False        False  \n3     False        False        False  \n4     False        False        False  \n5     False        False        False  \n"
     ]
    }
   ],
   "source": [
    "database.ORDER_show_tables()"
   ]
  },
  {
   "cell_type": "code",
   "execution_count": 5,
   "metadata": {},
   "outputs": [
    {
     "output_type": "stream",
     "name": "stdout",
     "text": [
      "   cod_faccion          nombre_fac\n0        CHWAR  Guerreros del Caos\n1        CDWAR     Enanos del Caos\n2        DWARK       Reinos Enanos\n3        EMPIR          El Imperio\n4        BRETO            Bretonia\n5        KISLV              Kislev\n6        HELFS         Altos Elfos\n7        WELFS      Elfos Silvanos\n8        DELFS       Elfos Oscuros\n9        ORCTR     Orcos y Goblins\n10       SKVEN              Skaven\n11       LZARD     Hombres Lagarto\n12       OGREK        Reinos Ogros\n13       VCONT      Condes Vampiro\n14       TKING    Reyes Funerarios\n"
     ]
    }
   ],
   "source": [
    "database.ORDER_select_all_from('\"warhammer_6th_SP\".facciones')"
   ]
  },
  {
   "cell_type": "code",
   "execution_count": 6,
   "metadata": {},
   "outputs": [
    {
     "output_type": "stream",
     "name": "stdout",
     "text": [
      "\n        SELECT *\n        FROM pg_catalog.pg_tables\n        WHERE schemaname = 'warhammer_6th_SP'\n        \n         schemaname          tablename tableowner tablespace  hasindexes  \\\n0  warhammer_6th_SP          facciones   postgres       None        True   \n1  warhammer_6th_SP           unidades   postgres       None        True   \n2  warhammer_6th_SP           perfiles   postgres       None       False   \n3  warhammer_6th_SP  reglas_especiales   postgres       None        True   \n4  warhammer_6th_SP             equipo   postgres       None        True   \n5  warhammer_6th_SP             dioses   postgres       None       False   \n\n   hasrules  hastriggers  rowsecurity  \n0     False        False        False  \n1     False        False        False  \n2     False        False        False  \n3     False        False        False  \n4     False        False        False  \n5     False        False        False  \n"
     ]
    }
   ],
   "source": [
    "database.ORDER_show_tables()"
   ]
  },
  {
   "cell_type": "code",
   "execution_count": 7,
   "metadata": {},
   "outputs": [
    {
     "output_type": "stream",
     "name": "stdout",
     "text": [
      "\n        SELECT *\n        FROM \"warhammer_6th_SP\".facciones FULL OUTER JOIN \"warhammer_6th_SP\".dioses ON (\"warhammer_6th_SP\".facciones.cod_faccion = \"warhammer_6th_SP\".dioses.cod_faccion);\n        \n"
     ]
    },
    {
     "output_type": "error",
     "ename": "UndefinedColumn",
     "evalue": "no existe la columna dioses.cod_faccion\nLINE 3: ...es ON (\"warhammer_6th_SP\".facciones.cod_faccion = \"warhammer...\n                                                             ^\n",
     "traceback": [
      "\u001b[1;31m---------------------------------------------------------------------------\u001b[0m",
      "\u001b[1;31mUndefinedColumn\u001b[0m                           Traceback (most recent call last)",
      "\u001b[1;32m<ipython-input-7-dccacb247745>\u001b[0m in \u001b[0;36m<module>\u001b[1;34m\u001b[0m\n\u001b[1;32m----> 1\u001b[1;33m \u001b[0mdatabase\u001b[0m\u001b[1;33m.\u001b[0m\u001b[0mORDER_join_tables\u001b[0m\u001b[1;33m(\u001b[0m\u001b[0mhow\u001b[0m\u001b[1;33m=\u001b[0m\u001b[1;34m'FULL'\u001b[0m\u001b[1;33m,\u001b[0m \u001b[0mtable_1\u001b[0m\u001b[1;33m=\u001b[0m \u001b[1;34m'\"warhammer_6th_SP\".facciones'\u001b[0m\u001b[1;33m,\u001b[0m \u001b[0mtable_2\u001b[0m\u001b[1;33m=\u001b[0m \u001b[1;34m'\"warhammer_6th_SP\".dioses'\u001b[0m\u001b[1;33m,\u001b[0m \u001b[0mcol_1\u001b[0m\u001b[1;33m=\u001b[0m \u001b[1;34m'cod_faccion'\u001b[0m\u001b[1;33m,\u001b[0m \u001b[0mcol_2\u001b[0m\u001b[1;33m=\u001b[0m \u001b[1;34m'cod_faccion'\u001b[0m\u001b[1;33m)\u001b[0m\u001b[1;33m\u001b[0m\u001b[1;33m\u001b[0m\u001b[0m\n\u001b[0m",
      "\u001b[1;32mc:\\Users\\Diomedes\\Documents\\Python\\Mi_Git\\Data_Analisys\\templates\\src\\sql_connector.py\u001b[0m in \u001b[0;36mORDER_join_tables\u001b[1;34m(self, how, select, table_1, table_2, col_1, col_2)\u001b[0m\n\u001b[0;32m    422\u001b[0m \u001b[1;33m\u001b[0m\u001b[0m\n\u001b[0;32m    423\u001b[0m         \u001b[0mprint\u001b[0m\u001b[1;33m(\u001b[0m\u001b[0mquery\u001b[0m\u001b[1;33m)\u001b[0m\u001b[1;33m\u001b[0m\u001b[1;33m\u001b[0m\u001b[0m\n\u001b[1;32m--> 424\u001b[1;33m         \u001b[0mresult\u001b[0m \u001b[1;33m=\u001b[0m \u001b[0mself\u001b[0m\u001b[1;33m.\u001b[0m\u001b[0mcursor\u001b[0m\u001b[1;33m.\u001b[0m\u001b[0mexecute\u001b[0m\u001b[1;33m(\u001b[0m\u001b[1;34mf\"{query}\"\u001b[0m\u001b[1;33m)\u001b[0m\u001b[1;33m\u001b[0m\u001b[1;33m\u001b[0m\u001b[0m\n\u001b[0m\u001b[0;32m    425\u001b[0m         \u001b[0mprint\u001b[0m\u001b[1;33m(\u001b[0m\u001b[0mresult\u001b[0m\u001b[1;33m)\u001b[0m\u001b[1;33m\u001b[0m\u001b[1;33m\u001b[0m\u001b[0m\n\u001b[0;32m    426\u001b[0m \u001b[1;33m\u001b[0m\u001b[0m\n",
      "\u001b[1;31mUndefinedColumn\u001b[0m: no existe la columna dioses.cod_faccion\nLINE 3: ...es ON (\"warhammer_6th_SP\".facciones.cod_faccion = \"warhammer...\n                                                             ^\n"
     ]
    }
   ],
   "source": [
    "database.ORDER_join_tables(how='FULL', table_1= '\"warhammer_6th_SP\".facciones', table_2= '\"warhammer_6th_SP\".dioses', col_1= 'cod_faccion', col_2= 'cod_faccion')"
   ]
  },
  {
   "cell_type": "code",
   "execution_count": 7,
   "metadata": {},
   "outputs": [],
   "source": [
    "# database.ORDER_close()"
   ]
  }
 ]
}