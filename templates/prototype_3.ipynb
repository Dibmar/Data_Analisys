{
 "metadata": {
  "language_info": {
   "codemirror_mode": {
    "name": "ipython",
    "version": 3
   },
   "file_extension": ".py",
   "mimetype": "text/x-python",
   "name": "python",
   "nbconvert_exporter": "python",
   "pygments_lexer": "ipython3",
   "version": "3.8.8-final"
  },
  "orig_nbformat": 2,
  "kernelspec": {
   "name": "python3",
   "display_name": "Python 3.8.8 64-bit",
   "metadata": {
    "interpreter": {
     "hash": "1baa965d5efe3ac65b79dfc60c0d706280b1da80fedb7760faf2759126c4f253"
    }
   }
  }
 },
 "nbformat": 4,
 "nbformat_minor": 2,
 "cells": [
  {
   "cell_type": "code",
   "execution_count": 1,
   "metadata": {},
   "outputs": [],
   "source": [
    "from src import sql_connector as sql\n",
    "from src import titan_class as titan"
   ]
  },
  {
   "cell_type": "code",
   "execution_count": 2,
   "metadata": {},
   "outputs": [
    {
     "output_type": "stream",
     "name": "stdout",
     "text": [
      "Succesfull connection to warhammer_6th, in schema warhammer_6th_SP\n"
     ]
    }
   ],
   "source": [
    "database = sql.PostgreSQL_manager(path='C:\\\\Users\\\\Diomedes\\\\Documents\\\\Python\\\\Mi_Git\\\\Data_Analisys\\\\templates\\\\src\\\\settings.json')\n",
    "database.read_config()\n",
    "database.CREATE_a_postgre_db()"
   ]
  },
  {
   "cell_type": "code",
   "execution_count": 3,
   "metadata": {},
   "outputs": [
    {
     "output_type": "stream",
     "name": "stdout",
     "text": [
      "\n        SELECT * FROM \"warhammer_6th_SP\".facciones\n        ORDER BY cod_faccion ASC; \n        \n\n   cod_faccion          nombre_fac\n0        BRETO            Bretonia\n1        CDWAR     Enanos del Caos\n2        CHWAR  Guerreros del Caos\n3        DELFS       Elfos Oscuros\n4        DWARK       Reinos Enanos\n5        EMPIR          El Imperio\n6        HELFS         Altos Elfos\n7        KISLV              Kislev\n8        LZARD     Hombres Lagarto\n9        OGREK        Reinos Ogros\n10       ORCTR     Orcos y Goblins\n11       SKVEN              Skaven\n12       TKING    Reyes Funerarios\n13       VCONT      Condes Vampiro\n14       WELFS      Elfos Silvanos\nReturning your query\n"
     ]
    }
   ],
   "source": [
    "query = \"\"\"\n",
    "        SELECT * FROM \"warhammer_6th_SP\".facciones\n",
    "        ORDER BY cod_faccion ASC; \n",
    "        \"\"\"\n",
    "\n",
    "uno = database.ORDER_custom_query(query= query, wish= True)"
   ]
  },
  {
   "cell_type": "code",
   "execution_count": 4,
   "metadata": {},
   "outputs": [
    {
     "output_type": "stream",
     "name": "stdout",
     "text": [
      "\n                SELECT *\n                FROM pg_catalog.pg_tables\n                WHERE schemaname = 'warhammer_6th_SP'\n                \n\n         schemaname          tablename tableowner tablespace  hasindexes  \\\n0  warhammer_6th_SP          facciones   postgres       None        True   \n1  warhammer_6th_SP           unidades   postgres       None        True   \n2  warhammer_6th_SP           perfiles   postgres       None       False   \n3  warhammer_6th_SP  reglas_especiales   postgres       None        True   \n4  warhammer_6th_SP             equipo   postgres       None        True   \n5  warhammer_6th_SP             dioses   postgres       None       False   \n\n   hasrules  hastriggers  rowsecurity  \n0     False        False        False  \n1     False        False        False  \n2     False        False        False  \n3     False        False        False  \n4     False        False        False  \n5     False        False        False  \n"
     ]
    },
    {
     "output_type": "execute_result",
     "data": {
      "text/plain": [
       "{0: 'facciones',\n",
       " 1: 'unidades',\n",
       " 2: 'perfiles',\n",
       " 3: 'reglas_especiales',\n",
       " 4: 'equipo',\n",
       " 5: 'dioses'}"
      ]
     },
     "metadata": {},
     "execution_count": 4
    }
   ],
   "source": [
    "table_dict = database.ORDER_show_tables()\n",
    "table_dict"
   ]
  },
  {
   "cell_type": "code",
   "execution_count": 5,
   "metadata": {},
   "outputs": [
    {
     "output_type": "stream",
     "name": "stdout",
     "text": [
      "\n                SELECT table_name, column_name, data_type   \n                FROM information_schema.columns \n                WHERE table_name = 'facciones';\n                \n\n  table_name  column_name          data_type\n0  facciones  cod_faccion  character varying\n1  facciones   nombre_fac  character varying\n----------------------------------------------------------------------------------------------------\n\n                SELECT table_name, column_name, data_type   \n                FROM information_schema.columns \n                WHERE table_name = 'unidades';\n                \n\n  table_name column_name          data_type\n0   unidades     cod_uni  character varying\n1   unidades    desc_uni  character varying\n2   unidades     cod_esp  character varying\n----------------------------------------------------------------------------------------------------\n\n                SELECT table_name, column_name, data_type   \n                FROM information_schema.columns \n                WHERE table_name = 'perfiles';\n                \n\n   table_name column_name          data_type\n0    perfiles         pts            integer\n1    perfiles          in            integer\n2    perfiles          at            integer\n3    perfiles          ld            integer\n4    perfiles      sv_val            integer\n5    perfiles         h_a            integer\n6    perfiles         h_p            integer\n7    perfiles         fue            integer\n8    perfiles         res            integer\n9    perfiles         her            integer\n10   perfiles     cod_uni  character varying\n11   perfiles     cod_esp  character varying\n12   perfiles    cod_equi  character varying\n13   perfiles      nombre  character varying\n----------------------------------------------------------------------------------------------------\n\n                SELECT table_name, column_name, data_type   \n                FROM information_schema.columns \n                WHERE table_name = 'reglas_especiales';\n                \n\n          table_name column_name          data_type\n0  reglas_especiales         pts            integer\n1  reglas_especiales     cod_esp  character varying\n2  reglas_especiales    desc_esp  character varying\n3  reglas_especiales    tipo_esp  character varying\n----------------------------------------------------------------------------------------------------\n\n                SELECT table_name, column_name, data_type   \n                FROM information_schema.columns \n                WHERE table_name = 'equipo';\n                \n\n  table_name column_name          data_type\n0     equipo      eff_en            integer\n1     equipo      eff_un            integer\n2     equipo   eff_un_sv            integer\n3     equipo    cod_equi  character varying\n4     equipo      nombre  character varying\n5     equipo       stats  character varying\n----------------------------------------------------------------------------------------------------\n\n                SELECT table_name, column_name, data_type   \n                FROM information_schema.columns \n                WHERE table_name = 'dioses';\n                \n\n  table_name   column_name          data_type\n0     dioses  alineamiento  character varying\n1     dioses        nombre  character varying\n2     dioses       faccion  character varying\n----------------------------------------------------------------------------------------------------\n"
     ]
    }
   ],
   "source": [
    "for e in table_dict:\n",
    "    database.ORDER_describe_table(table= table_dict[e])\n",
    "    print('-' * 100)"
   ]
  },
  {
   "cell_type": "code",
   "execution_count": 6,
   "metadata": {},
   "outputs": [
    {
     "output_type": "stream",
     "name": "stdout",
     "text": [
      "SELECT * FROM \"warhammer_6th_SP\".facciones\n\n   cod_faccion          nombre_fac\n0        CHWAR  Guerreros del Caos\n1        CDWAR     Enanos del Caos\n2        DWARK       Reinos Enanos\n3        EMPIR          El Imperio\n4        BRETO            Bretonia\n5        KISLV              Kislev\n6        HELFS         Altos Elfos\n7        WELFS      Elfos Silvanos\n8        DELFS       Elfos Oscuros\n9        ORCTR     Orcos y Goblins\n10       SKVEN              Skaven\n11       LZARD     Hombres Lagarto\n12       OGREK        Reinos Ogros\n13       VCONT      Condes Vampiro\n14       TKING    Reyes Funerarios\n"
     ]
    }
   ],
   "source": [
    "database.ORDER_select_all_from('\"warhammer_6th_SP\".facciones')"
   ]
  },
  {
   "cell_type": "code",
   "execution_count": 7,
   "metadata": {},
   "outputs": [
    {
     "output_type": "stream",
     "name": "stdout",
     "text": [
      "\n                SELECT *\n                FROM \"warhammer_6th_SP\".facciones INNER JOIN \"warhammer_6th_SP\".dioses ON (facciones.cod_faccion = dioses.faccion);\n                \n\n   cod_faccion          nombre_fac alineamiento            nombre faccion\n0        ORCTR     Orcos y Goblins        ORCTR             Gorko   ORCTR\n1        ORCTR     Orcos y Goblins        ORCTR             Morko   ORCTR\n2        CHWAR  Guerreros del Caos        CHUND            Nurgle   CHWAR\n3        CHWAR  Guerreros del Caos        CHUND           Tzeench   CHWAR\n4        CHWAR  Guerreros del Caos        CHUND          Slaanesh   CHWAR\n5        CHWAR  Guerreros del Caos        CHUND            Khorne   CHWAR\n6        CHWAR  Guerreros del Caos        CHUND             Malal   CHWAR\n7        EMPIR          El Imperio        CIVIL            Sigmar   EMPIR\n8        BRETO            Bretonia        CIVIL  La Dama del Lago   BRETO\n9        TKING    Reyes Funerarios        OTHER               N/A   TKING\n10       SKVEN              Skaven        OTHER      Rata Cornuda   SKVEN\n11       VCONT      Condes Vampiro        OTHER            Sigmar   VCONT\n12       CDWAR     Enanos del Caos        CHUND             Hasut   CDWAR\n13       DWARK       Reinos Enanos        CIVIL            Grungi   DWARK\n"
     ]
    }
   ],
   "source": [
    "joined_df = database.ORDER_join_tables(how='INNER', table_1= 'facciones', table_2= 'dioses', col_1= 'cod_faccion', col_2= 'faccion', wish= True)"
   ]
  },
  {
   "cell_type": "code",
   "execution_count": 8,
   "metadata": {},
   "outputs": [
    {
     "output_type": "stream",
     "name": "stdout",
     "text": [
      "Closing connection connection with SQL server...\n"
     ]
    }
   ],
   "source": [
    "database.ORDER_close()"
   ]
  }
 ]
}