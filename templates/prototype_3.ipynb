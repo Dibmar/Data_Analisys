{
 "metadata": {
  "language_info": {
   "codemirror_mode": {
    "name": "ipython",
    "version": 3
   },
   "file_extension": ".py",
   "mimetype": "text/x-python",
   "name": "python",
   "nbconvert_exporter": "python",
   "pygments_lexer": "ipython3",
   "version": "3.8.8-final"
  },
  "orig_nbformat": 2,
  "kernelspec": {
   "name": "python3",
   "display_name": "Python 3.8.8 64-bit",
   "metadata": {
    "interpreter": {
     "hash": "1baa965d5efe3ac65b79dfc60c0d706280b1da80fedb7760faf2759126c4f253"
    }
   }
  }
 },
 "nbformat": 4,
 "nbformat_minor": 2,
 "cells": [
  {
   "cell_type": "code",
   "execution_count": 1,
   "metadata": {},
   "outputs": [],
   "source": [
    "from src import sql_connector as sql\n",
    "from src import titan_class as titan"
   ]
  },
  {
   "cell_type": "code",
   "execution_count": 2,
   "metadata": {},
   "outputs": [
    {
     "output_type": "stream",
     "name": "stdout",
     "text": [
      "Succesfull connection to warhammer_6th, in schema warhammer_6th_SP\n"
     ]
    }
   ],
   "source": [
    "database = sql.PostgreSQL_manager(path='C:\\\\Users\\\\Diomedes\\\\Documents\\\\Python\\\\Mi_Git\\\\Data_Analisys\\\\templates\\\\src\\\\settings.json')\n",
    "database.read_config()\n",
    "database.CREATE_a_postgre_db()"
   ]
  },
  {
   "cell_type": "code",
   "execution_count": 3,
   "metadata": {},
   "outputs": [
    {
     "output_type": "stream",
     "name": "stdout",
     "text": [
      "\nSELECT * FROM \"warhammer_6th_SP\".facciones\nORDER BY cod_faccion ASC; \n\n   cod_faccion          nombre_fac\n0        BRETO            Bretonia\n1        CDWAR     Enanos del Caos\n2        CHWAR  Guerreros del Caos\n3        DELFS       Elfos Oscuros\n4        DWARK       Reinos Enanos\n5        EMPIR          El Imperio\n6        HELFS         Altos Elfos\n7        KISLV              Kislev\n8        LZARD     Hombres Lagarto\n9        OGREK        Reinos Ogros\n10       ORCTR     Orcos y Goblins\n11       SKVEN              Skaven\n12       TKING    Reyes Funerarios\n13       VCONT      Condes Vampiro\n14       WELFS      Elfos Silvanos\nReturning your query\n"
     ]
    }
   ],
   "source": [
    "query= \"\"\"\n",
    "SELECT * FROM \"warhammer_6th_SP\".facciones\n",
    "ORDER BY cod_faccion ASC; \n",
    "\"\"\"\n",
    "\n",
    "uno = database.ORDER_custom_query(query= query, wish= True)"
   ]
  },
  {
   "cell_type": "code",
   "execution_count": 4,
   "metadata": {},
   "outputs": [
    {
     "output_type": "stream",
     "name": "stdout",
     "text": [
      "\n        SELECT *\n        FROM pg_catalog.pg_tables\n        WHERE schemaname = 'warhammer_6th_SP'\n        \n         schemaname          tablename tableowner tablespace  hasindexes  \\\n0  warhammer_6th_SP          facciones   postgres       None        True   \n1  warhammer_6th_SP           unidades   postgres       None        True   \n2  warhammer_6th_SP           perfiles   postgres       None       False   \n3  warhammer_6th_SP  reglas_especiales   postgres       None        True   \n4  warhammer_6th_SP             equipo   postgres       None        True   \n\n   hasrules  hastriggers  rowsecurity  \n0     False        False        False  \n1     False        False        False  \n2     False        False        False  \n3     False        False        False  \n4     False        False        False  \n"
     ]
    }
   ],
   "source": [
    "database.ORDER_show_tables()"
   ]
  },
  {
   "cell_type": "code",
   "execution_count": 5,
   "metadata": {},
   "outputs": [
    {
     "output_type": "stream",
     "name": "stdout",
     "text": [
      "   cod_faccion          nombre_fac\n0        CHWAR  Guerreros del Caos\n1        CDWAR     Enanos del Caos\n2        DWARK       Reinos Enanos\n3        EMPIR          El Imperio\n4        BRETO            Bretonia\n5        KISLV              Kislev\n6        HELFS         Altos Elfos\n7        WELFS      Elfos Silvanos\n8        DELFS       Elfos Oscuros\n9        ORCTR     Orcos y Goblins\n10       SKVEN              Skaven\n11       LZARD     Hombres Lagarto\n12       OGREK        Reinos Ogros\n13       VCONT      Condes Vampiro\n14       TKING    Reyes Funerarios\n"
     ]
    }
   ],
   "source": [
    "database.ORDER_select_all_from('\"warhammer_6th_SP\".facciones')"
   ]
  },
  {
   "cell_type": "code",
   "execution_count": 6,
   "metadata": {},
   "outputs": [],
   "source": [
    "# database.ORDER_close()"
   ]
  }
 ]
}