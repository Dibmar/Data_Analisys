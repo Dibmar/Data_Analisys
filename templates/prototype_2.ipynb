{
 "metadata": {
  "language_info": {
   "codemirror_mode": {
    "name": "ipython",
    "version": 3
   },
   "file_extension": ".py",
   "mimetype": "text/x-python",
   "name": "python",
   "nbconvert_exporter": "python",
   "pygments_lexer": "ipython3",
   "version": "3.9.0-final"
  },
  "orig_nbformat": 2,
  "kernelspec": {
   "name": "python3",
   "display_name": "Python 3.9.0 64-bit",
   "metadata": {
    "interpreter": {
     "hash": "ac59ebe37160ed0dfa835113d9b8498d9f09ceb179beaac4002f036b9467c963"
    }
   }
  }
 },
 "nbformat": 4,
 "nbformat_minor": 2,
 "cells": [
  {
   "cell_type": "code",
   "execution_count": 1,
   "metadata": {},
   "outputs": [],
   "source": [
    "# Custom classes\n",
    "from src import sql_connector as sql\n",
    "from src import titan_class as titan"
   ]
  },
  {
   "cell_type": "code",
   "execution_count": 2,
   "metadata": {},
   "outputs": [
    {
     "output_type": "stream",
     "name": "stdout",
     "text": [
      "Connected to MySQL server new_schema\n"
     ]
    },
    {
     "output_type": "execute_result",
     "data": {
      "text/plain": [
       "(<pymysql.connections.Connection at 0x217fbe2aac0>,\n",
       " <pymysql.cursors.Cursor at 0x217c3d8bc70>)"
      ]
     },
     "metadata": {},
     "execution_count": 2
    }
   ],
   "source": [
    "# Establishing conection\n",
    "database = sql.SQL_manager(path='C:\\\\Users\\\\Diomedes\\\\Documents\\\\Python\\\\Mi_Git\\\\Data_Analisys\\\\templates\\\\src\\\\settings.json')\n",
    "database.gimmie_a_db()"
   ]
  },
  {
   "cell_type": "code",
   "execution_count": 3,
   "metadata": {},
   "outputs": [
    {
     "output_type": "stream",
     "name": "stdout",
     "text": [
      "0: gods\n1: gods_2\n"
     ]
    }
   ],
   "source": [
    "table_dict = database.ORDER_show_tables()"
   ]
  },
  {
   "cell_type": "code",
   "execution_count": 4,
   "metadata": {},
   "outputs": [
    {
     "output_type": "stream",
     "name": "stdout",
     "text": [
      "     name    data_type nullable primary_key default_value       collation\n",
      "0      ID      int(11)       NO         PRI          None  auto_increment\n",
      "1    name  varchar(45)      YES               name of god                \n",
      "2  origin  varchar(45)      YES                   faction                \n",
      "\n",
      "  +  +  +  +  +  +  +  +  +  +  +  +  +  +  +  +  +  +  +  +  \n",
      "\n",
      "      name    data_type nullable primary_key default_value collation\n",
      "0    name_  varchar(44)       NO         PRI          None          \n",
      "1  faction  varchar(45)      YES                      None          \n",
      "\n",
      "  +  +  +  +  +  +  +  +  +  +  +  +  +  +  +  +  +  +  +  +  \n",
      "\n"
     ]
    }
   ],
   "source": [
    "for e in table_dict:\n",
    "    database.ORDER_describe_table(table=table_dict[e])\n",
    "    print('\\n', ' + ' * 20, '\\n')"
   ]
  },
  {
   "cell_type": "code",
   "execution_count": 5,
   "metadata": {
    "tags": []
   },
   "outputs": [
    {
     "output_type": "stream",
     "name": "stdout",
     "text": [
      "The file will be stored as \"gods\"  in Output/...\n"
     ]
    },
    {
     "output_type": "execute_result",
     "data": {
      "text/plain": [
       "Empty DataFrame\n",
       "Columns: [ID, name, origin]\n",
       "Index: []"
      ],
      "text/html": "<div>\n<style scoped>\n    .dataframe tbody tr th:only-of-type {\n        vertical-align: middle;\n    }\n\n    .dataframe tbody tr th {\n        vertical-align: top;\n    }\n\n    .dataframe thead th {\n        text-align: right;\n    }\n</style>\n<table border=\"1\" class=\"dataframe\">\n  <thead>\n    <tr style=\"text-align: right;\">\n      <th></th>\n      <th>ID</th>\n      <th>name</th>\n      <th>origin</th>\n    </tr>\n  </thead>\n  <tbody>\n  </tbody>\n</table>\n</div>"
     },
     "metadata": {},
     "execution_count": 5
    }
   ],
   "source": [
    "query = f\"\"\"SELECT * FROM {table_dict[0]}\"\"\"\n",
    "\n",
    "database.ORDER_create_a_df_from_sql(query= query, store= True, name= table_dict[0])"
   ]
  },
  {
   "cell_type": "code",
   "execution_count": 6,
   "metadata": {},
   "outputs": [
    {
     "output_type": "stream",
     "name": "stdout",
     "text": [
      "INSERT INTO gods (name, origin) VALUES ('Khorne', 'warp');\n",
      "INSERT INTO gods (name, origin) VALUES ('Nurgle', 'warp');\n",
      "INSERT INTO gods (name, origin) VALUES ('Tzeench', 'warp');\n",
      "INSERT INTO gods (name, origin) VALUES ('Slaanesh', 'warp');\n",
      "INSERT INTO gods (name, origin) VALUES ('Malala', 'warp');\n",
      "   ID      name origin\n",
      "0   6    Khorne   warp\n",
      "1   7    Nurgle   warp\n",
      "2   8   Tzeench   warp\n",
      "3   9  Slaanesh   warp\n",
      "4  10    Malala   warp\n"
     ]
    }
   ],
   "source": [
    "columns = \"(name, origin)\"\n",
    "values = [\"('Khorne', 'warp')\",\"('Nurgle', 'warp')\",\"('Tzeench', 'warp')\",\"('Slaanesh', 'warp')\",\"('Malala', 'warp')\"]\n",
    "\n",
    "for value in values:\n",
    "    database.ORDER_insert_into_table(table=table_dict[0], columns= columns, values= value)\n",
    "database.ORDER_select_all_from (table= table_dict[0])"
   ]
  },
  {
   "cell_type": "code",
   "execution_count": null,
   "metadata": {},
   "outputs": [],
   "source": []
  },
  {
   "cell_type": "code",
   "execution_count": 7,
   "metadata": {},
   "outputs": [
    {
     "output_type": "stream",
     "name": "stdout",
     "text": [
      "Closing connection connection with MySQL server...\n"
     ]
    }
   ],
   "source": [
    "database.ORDER_close()"
   ]
  }
 ]
}