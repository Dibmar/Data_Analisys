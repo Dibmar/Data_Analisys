{
 "metadata": {
  "language_info": {
   "codemirror_mode": {
    "name": "ipython",
    "version": 3
   },
   "file_extension": ".py",
   "mimetype": "text/x-python",
   "name": "python",
   "nbconvert_exporter": "python",
   "pygments_lexer": "ipython3",
   "version": "3.7.4-final"
  },
  "orig_nbformat": 2,
  "kernelspec": {
   "name": "python_defaultSpec_1597838560536",
   "display_name": "Python 3.7.4 64-bit ('base': conda)"
  }
 },
 "nbformat": 4,
 "nbformat_minor": 2,
 "cells": [
  {
   "cell_type": "code",
   "execution_count": 24,
   "metadata": {},
   "outputs": [],
   "source": [
    "import pandas as pd\n",
    "import pandas as np"
   ]
  },
  {
   "cell_type": "code",
   "execution_count": 26,
   "metadata": {},
   "outputs": [
    {
     "output_type": "execute_result",
     "data": {
      "text/plain": "                    Time     Ads\n0    2017-09-13T00:00:00   80115\n1    2017-09-13T01:00:00   79885\n2    2017-09-13T02:00:00   89325\n3    2017-09-13T03:00:00  101930\n4    2017-09-13T04:00:00  121630\n..                   ...     ...\n211  2017-09-21T19:00:00  155890\n212  2017-09-21T20:00:00  123395\n213  2017-09-21T21:00:00  103080\n214  2017-09-21T22:00:00   95155\n215  2017-09-21T23:00:00   80285\n\n[216 rows x 2 columns]",
      "text/html": "<div>\n<style scoped>\n    .dataframe tbody tr th:only-of-type {\n        vertical-align: middle;\n    }\n\n    .dataframe tbody tr th {\n        vertical-align: top;\n    }\n\n    .dataframe thead th {\n        text-align: right;\n    }\n</style>\n<table border=\"1\" class=\"dataframe\">\n  <thead>\n    <tr style=\"text-align: right;\">\n      <th></th>\n      <th>Time</th>\n      <th>Ads</th>\n    </tr>\n  </thead>\n  <tbody>\n    <tr>\n      <td>0</td>\n      <td>2017-09-13T00:00:00</td>\n      <td>80115</td>\n    </tr>\n    <tr>\n      <td>1</td>\n      <td>2017-09-13T01:00:00</td>\n      <td>79885</td>\n    </tr>\n    <tr>\n      <td>2</td>\n      <td>2017-09-13T02:00:00</td>\n      <td>89325</td>\n    </tr>\n    <tr>\n      <td>3</td>\n      <td>2017-09-13T03:00:00</td>\n      <td>101930</td>\n    </tr>\n    <tr>\n      <td>4</td>\n      <td>2017-09-13T04:00:00</td>\n      <td>121630</td>\n    </tr>\n    <tr>\n      <td>...</td>\n      <td>...</td>\n      <td>...</td>\n    </tr>\n    <tr>\n      <td>211</td>\n      <td>2017-09-21T19:00:00</td>\n      <td>155890</td>\n    </tr>\n    <tr>\n      <td>212</td>\n      <td>2017-09-21T20:00:00</td>\n      <td>123395</td>\n    </tr>\n    <tr>\n      <td>213</td>\n      <td>2017-09-21T21:00:00</td>\n      <td>103080</td>\n    </tr>\n    <tr>\n      <td>214</td>\n      <td>2017-09-21T22:00:00</td>\n      <td>95155</td>\n    </tr>\n    <tr>\n      <td>215</td>\n      <td>2017-09-21T23:00:00</td>\n      <td>80285</td>\n    </tr>\n  </tbody>\n</table>\n<p>216 rows × 2 columns</p>\n</div>"
     },
     "metadata": {},
     "execution_count": 26
    }
   ],
   "source": [
    "df = pd.read_csv(r'F:\\Programacion\\1.BOOTCAMP\\data\\general_dfs\\ads.csv')\n",
    "df"
   ]
  }
 ]
}