{
  "cells": [
    {
      "cell_type": "code",
      "metadata": {
        "id": "OGWeiSdKJpa6",
        "colab_type": "code",
        "colab": {
          "base_uri": "https://localhost:8080/",
          "height": 51
        },
        "outputId": "cc36651c-6a53-4ad9-9c0f-8709028efa31"
      },
      "source": [
        "from __future__ import print_function\n",
        "import keras\n",
        "from keras.datasets import cifar10\n",
        "from keras.preprocessing.image import ImageDataGenerator\n",
        "from keras.models import Sequential\n",
        "from keras.layers import Dense, Dropout, Activation, Flatten\n",
        "from keras.layers import Conv2D, MaxPooling2D\n",
        "import os\n",
        "\n",
        "import numpy as np\n",
        "\n",
        "import seaborn as sns\n",
        "import matplotlib\n",
        "import matplotlib.pyplot as plt\n",
        "\n",
        "from sklearn.metrics import confusion_matrix, classification_report\n",
        "import itertools\n",
        "\n",
        "%matplotlib inline"
      ],
      "execution_count": null,
      "outputs": [
        {
          "output_type": "stream",
          "text": [
            "/usr/local/lib/python3.6/dist-packages/statsmodels/tools/_testing.py:19: FutureWarning: pandas.util.testing is deprecated. Use the functions in the public API at pandas.testing instead.\n",
            "  import pandas.util.testing as tm\n"
          ],
          "name": "stderr"
        }
      ]
    },
    {
      "cell_type": "code",
      "metadata": {
        "id": "0GGc4pFDKeMB",
        "colab_type": "code",
        "colab": {}
      },
      "source": [
        "batch_size = 164  # The default batch size of keras.\n",
        "num_classes = 10  # Number of class for the dataset\n",
        "epochs = 80\n",
        "data_augmentation = False"
      ],
      "execution_count": null,
      "outputs": []
    },
    {
      "cell_type": "code",
      "metadata": {
        "id": "N_5EbAgvKnVY",
        "colab_type": "code",
        "colab": {
          "base_uri": "https://localhost:8080/",
          "height": 119
        },
        "outputId": "94616c64-6b73-44ab-a89d-925c7e388981"
      },
      "source": [
        "# The data, split between train and test sets:\n",
        "(x_train, y_train), (x_test, y_test) = cifar10.load_data()\n",
        "print('x_train shape:', x_train.shape)\n",
        "print('y_train shape:', y_train.shape)\n",
        "print(x_train.shape[0], 'train samples')\n",
        "print(x_test.shape[0], 'test samples')"
      ],
      "execution_count": null,
      "outputs": [
        {
          "output_type": "stream",
          "text": [
            "Downloading data from https://www.cs.toronto.edu/~kriz/cifar-10-python.tar.gz\n",
            "170500096/170498071 [==============================] - 6s 0us/step\n",
            "x_train shape: (50000, 32, 32, 3)\n",
            "y_train shape: (50000, 1)\n",
            "50000 train samples\n",
            "10000 test samples\n"
          ],
          "name": "stdout"
        }
      ]
    },
    {
      "cell_type": "code",
      "metadata": {
        "id": "W7wBPrdDKzMc",
        "colab_type": "code",
        "colab": {}
      },
      "source": [
        "# Normalize the data. Before we need to connvert data type to float for computation.\n",
        "x_train = x_train.astype('float32')\n",
        "x_test = x_test.astype('float32')\n",
        "x_train /= 255\n",
        "x_test /= 255\n",
        "\n",
        "# Convert class vectors to binary class matrices. This is called one hot encoding.\n",
        "y_train = keras.utils.to_categorical(y_train, num_classes)\n",
        "y_test = keras.utils.to_categorical(y_test, num_classes)"
      ],
      "execution_count": null,
      "outputs": []
    },
    {
      "cell_type": "code",
      "metadata": {
        "id": "RwliSC6jK7B-",
        "colab_type": "code",
        "colab": {
          "base_uri": "https://localhost:8080/",
          "height": 663
        },
        "outputId": "1fc7cb7c-cd24-4fe4-bcc9-10e420748f17"
      },
      "source": [
        "#define the convnet\n",
        "model = Sequential()\n",
        "# CONV => RELU => CONV => RELU => POOL => DROPOUT\n",
        "model.add(Conv2D(32, (3, 3), padding='same',input_shape=x_train.shape[1:]))\n",
        "model.add(Activation('relu'))\n",
        "model.add(MaxPooling2D(pool_size=(2, 2)))\n",
        "\n",
        "# CONV => RELU => CONV => RELU => POOL => DROPOUT\n",
        "model.add(Conv2D(64, (3, 3), padding='same'))\n",
        "model.add(Activation('relu'))\n",
        "model.add(Conv2D(128, (3, 3)))\n",
        "model.add(Activation('relu'))\n",
        "model.add(MaxPooling2D(pool_size=(2, 2)))\n",
        "model.add(Dropout(0.25))\n",
        "\n",
        "# FLATTERN => DENSE => RELU => DROPOUT\n",
        "model.add(Flatten())\n",
        "model.add(Dense(2048))\n",
        "model.add(Activation('relu'))\n",
        "model.add(Dropout(0.5))\n",
        "\n",
        "# a softmax classifier\n",
        "model.add(Dense(num_classes))\n",
        "model.add(Activation('softmax'))\n",
        "model.summary()"
      ],
      "execution_count": null,
      "outputs": [
        {
          "output_type": "stream",
          "text": [
            "Model: \"sequential_31\"\n",
            "_________________________________________________________________\n",
            "Layer (type)                 Output Shape              Param #   \n",
            "=================================================================\n",
            "conv2d_90 (Conv2D)           (None, 32, 32, 32)        896       \n",
            "_________________________________________________________________\n",
            "activation_63 (Activation)   (None, 32, 32, 32)        0         \n",
            "_________________________________________________________________\n",
            "max_pooling2d_57 (MaxPooling (None, 16, 16, 32)        0         \n",
            "_________________________________________________________________\n",
            "conv2d_91 (Conv2D)           (None, 16, 16, 64)        18496     \n",
            "_________________________________________________________________\n",
            "activation_64 (Activation)   (None, 16, 16, 64)        0         \n",
            "_________________________________________________________________\n",
            "conv2d_92 (Conv2D)           (None, 14, 14, 128)       73856     \n",
            "_________________________________________________________________\n",
            "activation_65 (Activation)   (None, 14, 14, 128)       0         \n",
            "_________________________________________________________________\n",
            "max_pooling2d_58 (MaxPooling (None, 7, 7, 128)         0         \n",
            "_________________________________________________________________\n",
            "dropout_65 (Dropout)         (None, 7, 7, 128)         0         \n",
            "_________________________________________________________________\n",
            "flatten_25 (Flatten)         (None, 6272)              0         \n",
            "_________________________________________________________________\n",
            "dense_49 (Dense)             (None, 512)               3211776   \n",
            "_________________________________________________________________\n",
            "activation_66 (Activation)   (None, 512)               0         \n",
            "_________________________________________________________________\n",
            "dropout_66 (Dropout)         (None, 512)               0         \n",
            "_________________________________________________________________\n",
            "dense_50 (Dense)             (None, 10)                5130      \n",
            "_________________________________________________________________\n",
            "activation_67 (Activation)   (None, 10)                0         \n",
            "=================================================================\n",
            "Total params: 3,310,154\n",
            "Trainable params: 3,310,154\n",
            "Non-trainable params: 0\n",
            "_________________________________________________________________\n"
          ],
          "name": "stdout"
        }
      ]
    },
    {
      "cell_type": "code",
      "metadata": {
        "id": "EQWOtnknCIpj",
        "colab_type": "code",
        "colab": {}
      },
      "source": [
        "model.compile(loss=keras.losses.categorical_crossentropy,\n",
        "              optimizer=keras.optimizers.Adadelta(),\n",
        "              metrics=['accuracy'])"
      ],
      "execution_count": null,
      "outputs": []
    },
    {
      "cell_type": "code",
      "metadata": {
        "id": "qrAmFSwGLjRk",
        "colab_type": "code",
        "colab": {
          "base_uri": "https://localhost:8080/",
          "height": 1000
        },
        "outputId": "5bd54cd8-4d69-4ff2-f4bc-166e21b6e63b"
      },
      "source": [
        "model.fit(x_train, y_train,\n",
        "          batch_size=batch_size,\n",
        "          epochs=epochs,\n",
        "          verbose=1)\n",
        "score = model.evaluate(x_test, y_test, verbose=0)\n",
        "print('Test loss:', score[0])\n",
        "print('Test accuracy:', score[1])\n"
      ],
      "execution_count": null,
      "outputs": [
        {
          "output_type": "stream",
          "text": [
            "Epoch 1/80\n",
            "50000/50000 [==============================] - 12s 242us/step - loss: 0.4988 - accuracy: 0.8253\n",
            "Epoch 2/80\n",
            "50000/50000 [==============================] - 12s 235us/step - loss: 0.4422 - accuracy: 0.8442\n",
            "Epoch 3/80\n",
            "50000/50000 [==============================] - 12s 235us/step - loss: 0.3911 - accuracy: 0.8626\n",
            "Epoch 4/80\n",
            "50000/50000 [==============================] - 12s 236us/step - loss: 0.3477 - accuracy: 0.8789\n",
            "Epoch 5/80\n",
            "50000/50000 [==============================] - 12s 235us/step - loss: 0.3169 - accuracy: 0.8877\n",
            "Epoch 6/80\n",
            "50000/50000 [==============================] - 12s 236us/step - loss: 0.2854 - accuracy: 0.9000\n",
            "Epoch 7/80\n",
            "50000/50000 [==============================] - 12s 235us/step - loss: 0.2618 - accuracy: 0.9087\n",
            "Epoch 8/80\n",
            "50000/50000 [==============================] - 12s 235us/step - loss: 0.2427 - accuracy: 0.9152\n",
            "Epoch 9/80\n",
            "50000/50000 [==============================] - 12s 235us/step - loss: 0.2219 - accuracy: 0.9233\n",
            "Epoch 10/80\n",
            "50000/50000 [==============================] - 12s 235us/step - loss: 0.2070 - accuracy: 0.9294\n",
            "Epoch 11/80\n",
            "50000/50000 [==============================] - 12s 234us/step - loss: 0.2014 - accuracy: 0.9305\n",
            "Epoch 12/80\n",
            "50000/50000 [==============================] - 12s 236us/step - loss: 0.1967 - accuracy: 0.9331\n",
            "Epoch 13/80\n",
            "50000/50000 [==============================] - 12s 236us/step - loss: 0.1855 - accuracy: 0.9356\n",
            "Epoch 14/80\n",
            "50000/50000 [==============================] - 12s 235us/step - loss: 0.1868 - accuracy: 0.9365\n",
            "Epoch 15/80\n",
            "50000/50000 [==============================] - 12s 235us/step - loss: 0.1785 - accuracy: 0.9415\n",
            "Epoch 16/80\n",
            "50000/50000 [==============================] - 12s 235us/step - loss: 0.1818 - accuracy: 0.9397\n",
            "Epoch 17/80\n",
            "50000/50000 [==============================] - 12s 235us/step - loss: 0.1750 - accuracy: 0.9413\n",
            "Epoch 18/80\n",
            "50000/50000 [==============================] - 12s 236us/step - loss: 0.1794 - accuracy: 0.9423\n",
            "Epoch 19/80\n",
            "50000/50000 [==============================] - 12s 236us/step - loss: 0.1755 - accuracy: 0.9429\n",
            "Epoch 20/80\n",
            "50000/50000 [==============================] - 12s 235us/step - loss: 0.1757 - accuracy: 0.9450\n",
            "Epoch 21/80\n",
            "50000/50000 [==============================] - 12s 235us/step - loss: 0.1728 - accuracy: 0.9445\n",
            "Epoch 22/80\n",
            "50000/50000 [==============================] - 12s 235us/step - loss: 0.1768 - accuracy: 0.9441\n",
            "Epoch 23/80\n",
            "37100/50000 [=====================>........] - ETA: 3s - loss: 0.1737 - accuracy: 0.9465"
          ],
          "name": "stdout"
        },
        {
          "output_type": "error",
          "ename": "KeyboardInterrupt",
          "evalue": "ignored",
          "traceback": [
            "\u001b[0;31m---------------------------------------------------------------------------\u001b[0m",
            "\u001b[0;31mKeyboardInterrupt\u001b[0m                         Traceback (most recent call last)",
            "\u001b[0;32m<ipython-input-86-731a962d65f1>\u001b[0m in \u001b[0;36m<module>\u001b[0;34m()\u001b[0m\n\u001b[1;32m      2\u001b[0m           \u001b[0mbatch_size\u001b[0m\u001b[0;34m=\u001b[0m\u001b[0mbatch_size\u001b[0m\u001b[0;34m,\u001b[0m\u001b[0;34m\u001b[0m\u001b[0;34m\u001b[0m\u001b[0m\n\u001b[1;32m      3\u001b[0m           \u001b[0mepochs\u001b[0m\u001b[0;34m=\u001b[0m\u001b[0mepochs\u001b[0m\u001b[0;34m,\u001b[0m\u001b[0;34m\u001b[0m\u001b[0;34m\u001b[0m\u001b[0m\n\u001b[0;32m----> 4\u001b[0;31m           verbose=1)\n\u001b[0m\u001b[1;32m      5\u001b[0m \u001b[0mscore\u001b[0m \u001b[0;34m=\u001b[0m \u001b[0mmodel\u001b[0m\u001b[0;34m.\u001b[0m\u001b[0mevaluate\u001b[0m\u001b[0;34m(\u001b[0m\u001b[0mx_test\u001b[0m\u001b[0;34m,\u001b[0m \u001b[0my_test\u001b[0m\u001b[0;34m,\u001b[0m \u001b[0mverbose\u001b[0m\u001b[0;34m=\u001b[0m\u001b[0;36m0\u001b[0m\u001b[0;34m)\u001b[0m\u001b[0;34m\u001b[0m\u001b[0;34m\u001b[0m\u001b[0m\n\u001b[1;32m      6\u001b[0m \u001b[0mprint\u001b[0m\u001b[0;34m(\u001b[0m\u001b[0;34m'Test loss:'\u001b[0m\u001b[0;34m,\u001b[0m \u001b[0mscore\u001b[0m\u001b[0;34m[\u001b[0m\u001b[0;36m0\u001b[0m\u001b[0;34m]\u001b[0m\u001b[0;34m)\u001b[0m\u001b[0;34m\u001b[0m\u001b[0;34m\u001b[0m\u001b[0m\n",
            "\u001b[0;32m/usr/local/lib/python3.6/dist-packages/keras/engine/training.py\u001b[0m in \u001b[0;36mfit\u001b[0;34m(self, x, y, batch_size, epochs, verbose, callbacks, validation_split, validation_data, shuffle, class_weight, sample_weight, initial_epoch, steps_per_epoch, validation_steps, validation_freq, max_queue_size, workers, use_multiprocessing, **kwargs)\u001b[0m\n\u001b[1;32m   1237\u001b[0m                                         \u001b[0msteps_per_epoch\u001b[0m\u001b[0;34m=\u001b[0m\u001b[0msteps_per_epoch\u001b[0m\u001b[0;34m,\u001b[0m\u001b[0;34m\u001b[0m\u001b[0;34m\u001b[0m\u001b[0m\n\u001b[1;32m   1238\u001b[0m                                         \u001b[0mvalidation_steps\u001b[0m\u001b[0;34m=\u001b[0m\u001b[0mvalidation_steps\u001b[0m\u001b[0;34m,\u001b[0m\u001b[0;34m\u001b[0m\u001b[0;34m\u001b[0m\u001b[0m\n\u001b[0;32m-> 1239\u001b[0;31m                                         validation_freq=validation_freq)\n\u001b[0m\u001b[1;32m   1240\u001b[0m \u001b[0;34m\u001b[0m\u001b[0m\n\u001b[1;32m   1241\u001b[0m     def evaluate(self,\n",
            "\u001b[0;32m/usr/local/lib/python3.6/dist-packages/keras/engine/training_arrays.py\u001b[0m in \u001b[0;36mfit_loop\u001b[0;34m(model, fit_function, fit_inputs, out_labels, batch_size, epochs, verbose, callbacks, val_function, val_inputs, shuffle, initial_epoch, steps_per_epoch, validation_steps, validation_freq)\u001b[0m\n\u001b[1;32m    194\u001b[0m                     \u001b[0mins_batch\u001b[0m\u001b[0;34m[\u001b[0m\u001b[0mi\u001b[0m\u001b[0;34m]\u001b[0m \u001b[0;34m=\u001b[0m \u001b[0mins_batch\u001b[0m\u001b[0;34m[\u001b[0m\u001b[0mi\u001b[0m\u001b[0;34m]\u001b[0m\u001b[0;34m.\u001b[0m\u001b[0mtoarray\u001b[0m\u001b[0;34m(\u001b[0m\u001b[0;34m)\u001b[0m\u001b[0;34m\u001b[0m\u001b[0;34m\u001b[0m\u001b[0m\n\u001b[1;32m    195\u001b[0m \u001b[0;34m\u001b[0m\u001b[0m\n\u001b[0;32m--> 196\u001b[0;31m                 \u001b[0mouts\u001b[0m \u001b[0;34m=\u001b[0m \u001b[0mfit_function\u001b[0m\u001b[0;34m(\u001b[0m\u001b[0mins_batch\u001b[0m\u001b[0;34m)\u001b[0m\u001b[0;34m\u001b[0m\u001b[0;34m\u001b[0m\u001b[0m\n\u001b[0m\u001b[1;32m    197\u001b[0m                 \u001b[0mouts\u001b[0m \u001b[0;34m=\u001b[0m \u001b[0mto_list\u001b[0m\u001b[0;34m(\u001b[0m\u001b[0mouts\u001b[0m\u001b[0;34m)\u001b[0m\u001b[0;34m\u001b[0m\u001b[0;34m\u001b[0m\u001b[0m\n\u001b[1;32m    198\u001b[0m                 \u001b[0;32mfor\u001b[0m \u001b[0ml\u001b[0m\u001b[0;34m,\u001b[0m \u001b[0mo\u001b[0m \u001b[0;32min\u001b[0m \u001b[0mzip\u001b[0m\u001b[0;34m(\u001b[0m\u001b[0mout_labels\u001b[0m\u001b[0;34m,\u001b[0m \u001b[0mouts\u001b[0m\u001b[0;34m)\u001b[0m\u001b[0;34m:\u001b[0m\u001b[0;34m\u001b[0m\u001b[0;34m\u001b[0m\u001b[0m\n",
            "\u001b[0;32m/usr/local/lib/python3.6/dist-packages/tensorflow/python/keras/backend.py\u001b[0m in \u001b[0;36m__call__\u001b[0;34m(self, inputs)\u001b[0m\n\u001b[1;32m   3790\u001b[0m         \u001b[0mvalue\u001b[0m \u001b[0;34m=\u001b[0m \u001b[0mmath_ops\u001b[0m\u001b[0;34m.\u001b[0m\u001b[0mcast\u001b[0m\u001b[0;34m(\u001b[0m\u001b[0mvalue\u001b[0m\u001b[0;34m,\u001b[0m \u001b[0mtensor\u001b[0m\u001b[0;34m.\u001b[0m\u001b[0mdtype\u001b[0m\u001b[0;34m)\u001b[0m\u001b[0;34m\u001b[0m\u001b[0;34m\u001b[0m\u001b[0m\n\u001b[1;32m   3791\u001b[0m       \u001b[0mconverted_inputs\u001b[0m\u001b[0;34m.\u001b[0m\u001b[0mappend\u001b[0m\u001b[0;34m(\u001b[0m\u001b[0mvalue\u001b[0m\u001b[0;34m)\u001b[0m\u001b[0;34m\u001b[0m\u001b[0;34m\u001b[0m\u001b[0m\n\u001b[0;32m-> 3792\u001b[0;31m     \u001b[0moutputs\u001b[0m \u001b[0;34m=\u001b[0m \u001b[0mself\u001b[0m\u001b[0;34m.\u001b[0m\u001b[0m_graph_fn\u001b[0m\u001b[0;34m(\u001b[0m\u001b[0;34m*\u001b[0m\u001b[0mconverted_inputs\u001b[0m\u001b[0;34m)\u001b[0m\u001b[0;34m\u001b[0m\u001b[0;34m\u001b[0m\u001b[0m\n\u001b[0m\u001b[1;32m   3793\u001b[0m \u001b[0;34m\u001b[0m\u001b[0m\n\u001b[1;32m   3794\u001b[0m     \u001b[0;31m# EagerTensor.numpy() will often make a copy to ensure memory safety.\u001b[0m\u001b[0;34m\u001b[0m\u001b[0;34m\u001b[0m\u001b[0;34m\u001b[0m\u001b[0m\n",
            "\u001b[0;32m/usr/local/lib/python3.6/dist-packages/tensorflow/python/eager/function.py\u001b[0m in \u001b[0;36m__call__\u001b[0;34m(self, *args, **kwargs)\u001b[0m\n\u001b[1;32m   1603\u001b[0m       \u001b[0mTypeError\u001b[0m\u001b[0;34m:\u001b[0m \u001b[0mFor\u001b[0m \u001b[0minvalid\u001b[0m \u001b[0mpositional\u001b[0m\u001b[0;34m/\u001b[0m\u001b[0mkeyword\u001b[0m \u001b[0margument\u001b[0m \u001b[0mcombinations\u001b[0m\u001b[0;34m.\u001b[0m\u001b[0;34m\u001b[0m\u001b[0;34m\u001b[0m\u001b[0m\n\u001b[1;32m   1604\u001b[0m     \"\"\"\n\u001b[0;32m-> 1605\u001b[0;31m     \u001b[0;32mreturn\u001b[0m \u001b[0mself\u001b[0m\u001b[0;34m.\u001b[0m\u001b[0m_call_impl\u001b[0m\u001b[0;34m(\u001b[0m\u001b[0margs\u001b[0m\u001b[0;34m,\u001b[0m \u001b[0mkwargs\u001b[0m\u001b[0;34m)\u001b[0m\u001b[0;34m\u001b[0m\u001b[0;34m\u001b[0m\u001b[0m\n\u001b[0m\u001b[1;32m   1606\u001b[0m \u001b[0;34m\u001b[0m\u001b[0m\n\u001b[1;32m   1607\u001b[0m   \u001b[0;32mdef\u001b[0m \u001b[0m_call_impl\u001b[0m\u001b[0;34m(\u001b[0m\u001b[0mself\u001b[0m\u001b[0;34m,\u001b[0m \u001b[0margs\u001b[0m\u001b[0;34m,\u001b[0m \u001b[0mkwargs\u001b[0m\u001b[0;34m,\u001b[0m \u001b[0mcancellation_manager\u001b[0m\u001b[0;34m=\u001b[0m\u001b[0;32mNone\u001b[0m\u001b[0;34m)\u001b[0m\u001b[0;34m:\u001b[0m\u001b[0;34m\u001b[0m\u001b[0;34m\u001b[0m\u001b[0m\n",
            "\u001b[0;32m/usr/local/lib/python3.6/dist-packages/tensorflow/python/eager/function.py\u001b[0m in \u001b[0;36m_call_impl\u001b[0;34m(self, args, kwargs, cancellation_manager)\u001b[0m\n\u001b[1;32m   1643\u001b[0m       raise TypeError(\"Keyword arguments {} unknown. Expected {}.\".format(\n\u001b[1;32m   1644\u001b[0m           list(kwargs.keys()), list(self._arg_keywords)))\n\u001b[0;32m-> 1645\u001b[0;31m     \u001b[0;32mreturn\u001b[0m \u001b[0mself\u001b[0m\u001b[0;34m.\u001b[0m\u001b[0m_call_flat\u001b[0m\u001b[0;34m(\u001b[0m\u001b[0margs\u001b[0m\u001b[0;34m,\u001b[0m \u001b[0mself\u001b[0m\u001b[0;34m.\u001b[0m\u001b[0mcaptured_inputs\u001b[0m\u001b[0;34m,\u001b[0m \u001b[0mcancellation_manager\u001b[0m\u001b[0;34m)\u001b[0m\u001b[0;34m\u001b[0m\u001b[0;34m\u001b[0m\u001b[0m\n\u001b[0m\u001b[1;32m   1646\u001b[0m \u001b[0;34m\u001b[0m\u001b[0m\n\u001b[1;32m   1647\u001b[0m   \u001b[0;32mdef\u001b[0m \u001b[0m_filtered_call\u001b[0m\u001b[0;34m(\u001b[0m\u001b[0mself\u001b[0m\u001b[0;34m,\u001b[0m \u001b[0margs\u001b[0m\u001b[0;34m,\u001b[0m \u001b[0mkwargs\u001b[0m\u001b[0;34m)\u001b[0m\u001b[0;34m:\u001b[0m\u001b[0;34m\u001b[0m\u001b[0;34m\u001b[0m\u001b[0m\n",
            "\u001b[0;32m/usr/local/lib/python3.6/dist-packages/tensorflow/python/eager/function.py\u001b[0m in \u001b[0;36m_call_flat\u001b[0;34m(self, args, captured_inputs, cancellation_manager)\u001b[0m\n\u001b[1;32m   1744\u001b[0m       \u001b[0;31m# No tape is watching; skip to running the function.\u001b[0m\u001b[0;34m\u001b[0m\u001b[0;34m\u001b[0m\u001b[0;34m\u001b[0m\u001b[0m\n\u001b[1;32m   1745\u001b[0m       return self._build_call_outputs(self._inference_function.call(\n\u001b[0;32m-> 1746\u001b[0;31m           ctx, args, cancellation_manager=cancellation_manager))\n\u001b[0m\u001b[1;32m   1747\u001b[0m     forward_backward = self._select_forward_and_backward_functions(\n\u001b[1;32m   1748\u001b[0m         \u001b[0margs\u001b[0m\u001b[0;34m,\u001b[0m\u001b[0;34m\u001b[0m\u001b[0;34m\u001b[0m\u001b[0m\n",
            "\u001b[0;32m/usr/local/lib/python3.6/dist-packages/tensorflow/python/eager/function.py\u001b[0m in \u001b[0;36mcall\u001b[0;34m(self, ctx, args, cancellation_manager)\u001b[0m\n\u001b[1;32m    596\u001b[0m               \u001b[0minputs\u001b[0m\u001b[0;34m=\u001b[0m\u001b[0margs\u001b[0m\u001b[0;34m,\u001b[0m\u001b[0;34m\u001b[0m\u001b[0;34m\u001b[0m\u001b[0m\n\u001b[1;32m    597\u001b[0m               \u001b[0mattrs\u001b[0m\u001b[0;34m=\u001b[0m\u001b[0mattrs\u001b[0m\u001b[0;34m,\u001b[0m\u001b[0;34m\u001b[0m\u001b[0;34m\u001b[0m\u001b[0m\n\u001b[0;32m--> 598\u001b[0;31m               ctx=ctx)\n\u001b[0m\u001b[1;32m    599\u001b[0m         \u001b[0;32melse\u001b[0m\u001b[0;34m:\u001b[0m\u001b[0;34m\u001b[0m\u001b[0;34m\u001b[0m\u001b[0m\n\u001b[1;32m    600\u001b[0m           outputs = execute.execute_with_cancellation(\n",
            "\u001b[0;32m/usr/local/lib/python3.6/dist-packages/tensorflow/python/eager/execute.py\u001b[0m in \u001b[0;36mquick_execute\u001b[0;34m(op_name, num_outputs, inputs, attrs, ctx, name)\u001b[0m\n\u001b[1;32m     58\u001b[0m     \u001b[0mctx\u001b[0m\u001b[0;34m.\u001b[0m\u001b[0mensure_initialized\u001b[0m\u001b[0;34m(\u001b[0m\u001b[0;34m)\u001b[0m\u001b[0;34m\u001b[0m\u001b[0;34m\u001b[0m\u001b[0m\n\u001b[1;32m     59\u001b[0m     tensors = pywrap_tfe.TFE_Py_Execute(ctx._handle, device_name, op_name,\n\u001b[0;32m---> 60\u001b[0;31m                                         inputs, attrs, num_outputs)\n\u001b[0m\u001b[1;32m     61\u001b[0m   \u001b[0;32mexcept\u001b[0m \u001b[0mcore\u001b[0m\u001b[0;34m.\u001b[0m\u001b[0m_NotOkStatusException\u001b[0m \u001b[0;32mas\u001b[0m \u001b[0me\u001b[0m\u001b[0;34m:\u001b[0m\u001b[0;34m\u001b[0m\u001b[0;34m\u001b[0m\u001b[0m\n\u001b[1;32m     62\u001b[0m     \u001b[0;32mif\u001b[0m \u001b[0mname\u001b[0m \u001b[0;32mis\u001b[0m \u001b[0;32mnot\u001b[0m \u001b[0;32mNone\u001b[0m\u001b[0;34m:\u001b[0m\u001b[0;34m\u001b[0m\u001b[0;34m\u001b[0m\u001b[0m\n",
            "\u001b[0;31mKeyboardInterrupt\u001b[0m: "
          ]
        }
      ]
    },
    {
      "cell_type": "code",
      "metadata": {
        "id": "90XjFdrj7TuK",
        "colab_type": "code",
        "colab": {
          "base_uri": "https://localhost:8080/",
          "height": 1000
        },
        "outputId": "be2c50db-2366-4eea-e2fb-130c7bd9d836"
      },
      "source": [
        "history = None  # For recording the history of trainning process.\n",
        "if not data_augmentation:\n",
        "    print('Not using data augmentation.')\n",
        "    history = model.fit(x_train, y_train,\n",
        "              batch_size=batch_size,\n",
        "              epochs=epochs,\n",
        "              validation_data=(x_test, y_test),\n",
        "              shuffle=True)\n",
        "else:\n",
        "    print('Using real-time data augmentation.')\n",
        "    # This will do preprocessing and realtime data augmentation:\n",
        "    datagen = ImageDataGenerator(\n",
        "        featurewise_center=False,  # set input mean to 0 over the dataset\n",
        "        samplewise_center=False,  # set each sample mean to 0\n",
        "        featurewise_std_normalization=False,  # divide inputs by std of the dataset\n",
        "        samplewise_std_normalization=False,  # divide each input by its std\n",
        "        zca_whitening=False,  # apply ZCA whitening\n",
        "        zca_epsilon=1e-06,  # epsilon for ZCA whitening\n",
        "        rotation_range=0,  # randomly rotate images in the range (degrees, 0 to 180)\n",
        "        # randomly shift images horizontally (fraction of total width)\n",
        "        width_shift_range=0.1,\n",
        "        # randomly shift images vertically (fraction of total height)\n",
        "        height_shift_range=0.1,\n",
        "        shear_range=0.,  # set range for random shear\n",
        "        zoom_range=0.,  # set range for random zoom\n",
        "        channel_shift_range=0.,  # set range for random channel shifts\n",
        "        # set mode for filling points outside the input boundaries\n",
        "        fill_mode='nearest',\n",
        "        cval=0.,  # value used for fill_mode = \"constant\"\n",
        "        horizontal_flip=True,  # randomly flip images\n",
        "        vertical_flip=False,  # randomly flip images\n",
        "        # set rescaling factor (applied before any other transformation)\n",
        "        rescale=None,\n",
        "        # set function that will be applied on each input\n",
        "        preprocessing_function=None,\n",
        "        # image data format, either \"channels_first\" or \"channels_last\"\n",
        "        data_format=None,\n",
        "        # fraction of images reserved for validation (strictly between 0 and 1)\n",
        "        validation_split=0.0)\n",
        "\n",
        "    # Compute quantities required for feature-wise normalization\n",
        "    # (std, mean, and principal components if ZCA whitening is applied).\n",
        "    datagen.fit(x_train)\n",
        "\n",
        "    # Fit the model on the batches generated by datagen.flow().\n",
        "    history = model.fit_generator(datagen.flow(x_train, y_train,\n",
        "                                    batch_size=batch_size),\n",
        "                                    epochs=epochs,\n",
        "                                    validation_data=(x_test, y_test),\n",
        "                                    workers=4)"
      ],
      "execution_count": null,
      "outputs": [
        {
          "output_type": "stream",
          "text": [
            "Not using data augmentation.\n",
            "Train on 50000 samples, validate on 10000 samples\n",
            "Epoch 1/80\n",
            "50000/50000 [==============================] - 13s 253us/step - loss: 0.1717 - accuracy: 0.9462 - val_loss: 1.2278 - val_accuracy: 0.7908\n",
            "Epoch 2/80\n",
            "50000/50000 [==============================] - 13s 257us/step - loss: 0.1763 - accuracy: 0.9463 - val_loss: 0.9856 - val_accuracy: 0.7803\n",
            "Epoch 3/80\n",
            "50000/50000 [==============================] - 13s 260us/step - loss: 0.1817 - accuracy: 0.9459 - val_loss: 1.0598 - val_accuracy: 0.7909\n",
            "Epoch 4/80\n",
            "50000/50000 [==============================] - 13s 252us/step - loss: 0.1737 - accuracy: 0.9467 - val_loss: 0.9828 - val_accuracy: 0.7868\n",
            "Epoch 5/80\n",
            "50000/50000 [==============================] - 13s 252us/step - loss: 0.1711 - accuracy: 0.9472 - val_loss: 0.8563 - val_accuracy: 0.7845\n",
            "Epoch 6/80\n",
            "50000/50000 [==============================] - 13s 252us/step - loss: 0.1784 - accuracy: 0.9472 - val_loss: 1.2495 - val_accuracy: 0.7883\n",
            "Epoch 7/80\n",
            "50000/50000 [==============================] - 13s 251us/step - loss: 0.1760 - accuracy: 0.9476 - val_loss: 0.9720 - val_accuracy: 0.7879\n",
            "Epoch 8/80\n",
            "50000/50000 [==============================] - 13s 251us/step - loss: 0.1835 - accuracy: 0.9463 - val_loss: 1.0483 - val_accuracy: 0.7863\n",
            "Epoch 9/80\n",
            "50000/50000 [==============================] - 13s 253us/step - loss: 0.1787 - accuracy: 0.9484 - val_loss: 0.9439 - val_accuracy: 0.7775\n",
            "Epoch 10/80\n",
            "50000/50000 [==============================] - 13s 252us/step - loss: 0.1840 - accuracy: 0.9462 - val_loss: 0.7798 - val_accuracy: 0.7590\n",
            "Epoch 11/80\n",
            "50000/50000 [==============================] - 13s 252us/step - loss: 0.1848 - accuracy: 0.9472 - val_loss: 0.9172 - val_accuracy: 0.7868\n",
            "Epoch 12/80\n",
            "50000/50000 [==============================] - 13s 251us/step - loss: 0.1928 - accuracy: 0.9446 - val_loss: 1.1083 - val_accuracy: 0.7824\n",
            "Epoch 13/80\n",
            "50000/50000 [==============================] - 13s 253us/step - loss: 0.1842 - accuracy: 0.9470 - val_loss: 1.1127 - val_accuracy: 0.7889\n",
            "Epoch 14/80\n",
            "50000/50000 [==============================] - 13s 252us/step - loss: 0.1859 - accuracy: 0.9475 - val_loss: 0.9923 - val_accuracy: 0.7847\n",
            "Epoch 15/80\n",
            "50000/50000 [==============================] - 13s 252us/step - loss: 0.1922 - accuracy: 0.9462 - val_loss: 1.2146 - val_accuracy: 0.7938\n",
            "Epoch 16/80\n",
            "50000/50000 [==============================] - 13s 252us/step - loss: 0.1904 - accuracy: 0.9455 - val_loss: 1.0710 - val_accuracy: 0.7825\n",
            "Epoch 17/80\n",
            "50000/50000 [==============================] - 13s 251us/step - loss: 0.1869 - accuracy: 0.9473 - val_loss: 0.9247 - val_accuracy: 0.7897\n",
            "Epoch 18/80\n",
            "50000/50000 [==============================] - 13s 251us/step - loss: 0.1890 - accuracy: 0.9468 - val_loss: 1.1829 - val_accuracy: 0.7917\n",
            "Epoch 19/80\n",
            "50000/50000 [==============================] - 13s 252us/step - loss: 0.1894 - accuracy: 0.9472 - val_loss: 1.1120 - val_accuracy: 0.7966\n",
            "Epoch 20/80\n",
            "50000/50000 [==============================] - 13s 251us/step - loss: 0.1856 - accuracy: 0.9472 - val_loss: 0.8841 - val_accuracy: 0.7838\n",
            "Epoch 21/80\n",
            "50000/50000 [==============================] - 13s 251us/step - loss: 0.1852 - accuracy: 0.9484 - val_loss: 0.8989 - val_accuracy: 0.7826\n",
            "Epoch 22/80\n",
            "50000/50000 [==============================] - 13s 251us/step - loss: 0.1886 - accuracy: 0.9458 - val_loss: 1.2013 - val_accuracy: 0.7926\n",
            "Epoch 23/80\n",
            "50000/50000 [==============================] - 13s 252us/step - loss: 0.1931 - accuracy: 0.9464 - val_loss: 0.8032 - val_accuracy: 0.7810\n",
            "Epoch 24/80\n",
            "50000/50000 [==============================] - 13s 252us/step - loss: 0.1956 - accuracy: 0.9451 - val_loss: 0.8429 - val_accuracy: 0.7873\n",
            "Epoch 25/80\n",
            "50000/50000 [==============================] - 13s 252us/step - loss: 0.2049 - accuracy: 0.9439 - val_loss: 1.2575 - val_accuracy: 0.7888\n",
            "Epoch 26/80\n",
            "50000/50000 [==============================] - 13s 251us/step - loss: 0.2016 - accuracy: 0.9447 - val_loss: 0.8648 - val_accuracy: 0.7772\n",
            "Epoch 27/80\n",
            "50000/50000 [==============================] - 13s 262us/step - loss: 0.1855 - accuracy: 0.9493 - val_loss: 1.4182 - val_accuracy: 0.7903\n",
            "Epoch 28/80\n",
            "50000/50000 [==============================] - 13s 254us/step - loss: 0.1894 - accuracy: 0.9465 - val_loss: 0.8542 - val_accuracy: 0.7807\n",
            "Epoch 29/80\n",
            "50000/50000 [==============================] - 13s 252us/step - loss: 0.1906 - accuracy: 0.9472 - val_loss: 1.2446 - val_accuracy: 0.7905\n",
            "Epoch 30/80\n",
            "50000/50000 [==============================] - 13s 251us/step - loss: 0.1919 - accuracy: 0.9480 - val_loss: 1.0901 - val_accuracy: 0.7866\n",
            "Epoch 31/80\n",
            "50000/50000 [==============================] - 13s 252us/step - loss: 0.1920 - accuracy: 0.9468 - val_loss: 1.2977 - val_accuracy: 0.7942\n",
            "Epoch 32/80\n",
            "50000/50000 [==============================] - 13s 251us/step - loss: 0.1958 - accuracy: 0.9450 - val_loss: 1.1688 - val_accuracy: 0.7936\n",
            "Epoch 33/80\n",
            "50000/50000 [==============================] - 13s 252us/step - loss: 0.1954 - accuracy: 0.9473 - val_loss: 1.1914 - val_accuracy: 0.7957\n",
            "Epoch 34/80\n",
            "50000/50000 [==============================] - 13s 251us/step - loss: 0.1879 - accuracy: 0.9494 - val_loss: 1.2361 - val_accuracy: 0.7877\n",
            "Epoch 35/80\n",
            "50000/50000 [==============================] - 13s 252us/step - loss: 0.2027 - accuracy: 0.9454 - val_loss: 1.0384 - val_accuracy: 0.7799\n",
            "Epoch 36/80\n",
            "50000/50000 [==============================] - 13s 251us/step - loss: 0.1983 - accuracy: 0.9453 - val_loss: 1.4841 - val_accuracy: 0.7825\n",
            "Epoch 37/80\n",
            "50000/50000 [==============================] - 13s 252us/step - loss: 0.2006 - accuracy: 0.9455 - val_loss: 0.8559 - val_accuracy: 0.7847\n",
            "Epoch 38/80\n",
            "50000/50000 [==============================] - 13s 251us/step - loss: 0.1981 - accuracy: 0.9458 - val_loss: 0.9200 - val_accuracy: 0.7802\n",
            "Epoch 39/80\n",
            "50000/50000 [==============================] - 13s 251us/step - loss: 0.2026 - accuracy: 0.9446 - val_loss: 1.3145 - val_accuracy: 0.7960\n",
            "Epoch 40/80\n",
            "50000/50000 [==============================] - 13s 251us/step - loss: 0.1944 - accuracy: 0.9465 - val_loss: 1.1595 - val_accuracy: 0.7924\n",
            "Epoch 41/80\n",
            "50000/50000 [==============================] - 13s 252us/step - loss: 0.1957 - accuracy: 0.9468 - val_loss: 1.2360 - val_accuracy: 0.7871\n",
            "Epoch 42/80\n",
            "50000/50000 [==============================] - 13s 252us/step - loss: 0.1946 - accuracy: 0.9474 - val_loss: 1.2774 - val_accuracy: 0.7844\n",
            "Epoch 43/80\n",
            "50000/50000 [==============================] - 13s 251us/step - loss: 0.2106 - accuracy: 0.9436 - val_loss: 1.3429 - val_accuracy: 0.7901\n",
            "Epoch 44/80\n",
            "50000/50000 [==============================] - 13s 251us/step - loss: 0.1906 - accuracy: 0.9482 - val_loss: 1.3185 - val_accuracy: 0.7932\n",
            "Epoch 45/80\n",
            "50000/50000 [==============================] - 13s 252us/step - loss: 0.1871 - accuracy: 0.9496 - val_loss: 1.2508 - val_accuracy: 0.7959\n",
            "Epoch 46/80\n",
            "50000/50000 [==============================] - 13s 252us/step - loss: 0.1907 - accuracy: 0.9479 - val_loss: 1.2519 - val_accuracy: 0.7940\n",
            "Epoch 47/80\n",
            "50000/50000 [==============================] - 13s 251us/step - loss: 0.2018 - accuracy: 0.9470 - val_loss: 1.3071 - val_accuracy: 0.7834\n",
            "Epoch 48/80\n",
            "50000/50000 [==============================] - 13s 251us/step - loss: 0.1932 - accuracy: 0.9475 - val_loss: 1.2623 - val_accuracy: 0.7874\n",
            "Epoch 49/80\n",
            "50000/50000 [==============================] - 13s 250us/step - loss: 0.1966 - accuracy: 0.9464 - val_loss: 1.4967 - val_accuracy: 0.7901\n",
            "Epoch 50/80\n",
            "50000/50000 [==============================] - 13s 252us/step - loss: 0.1994 - accuracy: 0.9465 - val_loss: 1.0084 - val_accuracy: 0.7853\n",
            "Epoch 51/80\n",
            "50000/50000 [==============================] - 13s 251us/step - loss: 0.1946 - accuracy: 0.9475 - val_loss: 0.9157 - val_accuracy: 0.7848\n",
            "Epoch 52/80\n",
            "50000/50000 [==============================] - 13s 264us/step - loss: 0.2000 - accuracy: 0.9469 - val_loss: 1.3077 - val_accuracy: 0.7728\n",
            "Epoch 53/80\n",
            "50000/50000 [==============================] - 13s 251us/step - loss: 0.1997 - accuracy: 0.9475 - val_loss: 1.0709 - val_accuracy: 0.7836\n",
            "Epoch 54/80\n",
            "50000/50000 [==============================] - 13s 251us/step - loss: 0.1992 - accuracy: 0.9481 - val_loss: 1.0997 - val_accuracy: 0.7867\n",
            "Epoch 55/80\n",
            "50000/50000 [==============================] - 13s 251us/step - loss: 0.1948 - accuracy: 0.9468 - val_loss: 0.8519 - val_accuracy: 0.7875\n",
            "Epoch 56/80\n",
            "50000/50000 [==============================] - 13s 252us/step - loss: 0.2034 - accuracy: 0.9456 - val_loss: 0.8233 - val_accuracy: 0.7687\n",
            "Epoch 57/80\n",
            "50000/50000 [==============================] - 13s 251us/step - loss: 0.2017 - accuracy: 0.9472 - val_loss: 1.2749 - val_accuracy: 0.7915\n",
            "Epoch 58/80\n",
            "50000/50000 [==============================] - 13s 252us/step - loss: 0.1988 - accuracy: 0.9480 - val_loss: 0.8678 - val_accuracy: 0.7791\n",
            "Epoch 59/80\n",
            "50000/50000 [==============================] - 13s 251us/step - loss: 0.1989 - accuracy: 0.9473 - val_loss: 1.2189 - val_accuracy: 0.7850\n",
            "Epoch 60/80\n",
            "50000/50000 [==============================] - 13s 251us/step - loss: 0.1987 - accuracy: 0.9464 - val_loss: 1.2922 - val_accuracy: 0.7977\n",
            "Epoch 61/80\n",
            "50000/50000 [==============================] - 13s 251us/step - loss: 0.2055 - accuracy: 0.9455 - val_loss: 1.1920 - val_accuracy: 0.7852\n",
            "Epoch 62/80\n",
            "50000/50000 [==============================] - 13s 251us/step - loss: 0.2026 - accuracy: 0.9469 - val_loss: 1.5817 - val_accuracy: 0.7989\n",
            "Epoch 63/80\n",
            "50000/50000 [==============================] - 13s 252us/step - loss: 0.2013 - accuracy: 0.9475 - val_loss: 1.1066 - val_accuracy: 0.7880\n",
            "Epoch 64/80\n",
            "50000/50000 [==============================] - 13s 251us/step - loss: 0.1914 - accuracy: 0.9493 - val_loss: 1.3223 - val_accuracy: 0.7920\n",
            "Epoch 65/80\n",
            "50000/50000 [==============================] - 13s 252us/step - loss: 0.1991 - accuracy: 0.9470 - val_loss: 1.3810 - val_accuracy: 0.7957\n",
            "Epoch 66/80\n",
            "50000/50000 [==============================] - 13s 252us/step - loss: 0.2045 - accuracy: 0.9472 - val_loss: 1.4355 - val_accuracy: 0.7980\n",
            "Epoch 67/80\n",
            "50000/50000 [==============================] - 13s 251us/step - loss: 0.2001 - accuracy: 0.9475 - val_loss: 1.3240 - val_accuracy: 0.7849\n",
            "Epoch 68/80\n",
            "50000/50000 [==============================] - 13s 251us/step - loss: 0.1946 - accuracy: 0.9485 - val_loss: 1.5499 - val_accuracy: 0.7926\n",
            "Epoch 69/80\n",
            "50000/50000 [==============================] - 13s 251us/step - loss: 0.2133 - accuracy: 0.9448 - val_loss: 1.4384 - val_accuracy: 0.7911\n",
            "Epoch 70/80\n",
            "50000/50000 [==============================] - 13s 251us/step - loss: 0.2038 - accuracy: 0.9462 - val_loss: 1.6090 - val_accuracy: 0.7923\n",
            "Epoch 71/80\n",
            "50000/50000 [==============================] - 13s 252us/step - loss: 0.1995 - accuracy: 0.9471 - val_loss: 1.4477 - val_accuracy: 0.8011\n",
            "Epoch 72/80\n",
            "50000/50000 [==============================] - 13s 252us/step - loss: 0.1974 - accuracy: 0.9480 - val_loss: 1.2468 - val_accuracy: 0.7843\n",
            "Epoch 73/80\n",
            "50000/50000 [==============================] - 13s 251us/step - loss: 0.2036 - accuracy: 0.9463 - val_loss: 1.3331 - val_accuracy: 0.7816\n",
            "Epoch 74/80\n",
            "50000/50000 [==============================] - 13s 251us/step - loss: 0.2010 - accuracy: 0.9491 - val_loss: 1.1291 - val_accuracy: 0.7917\n",
            "Epoch 75/80\n",
            "50000/50000 [==============================] - 13s 251us/step - loss: 0.1993 - accuracy: 0.9499 - val_loss: 1.2360 - val_accuracy: 0.7884\n",
            "Epoch 76/80\n",
            "50000/50000 [==============================] - 13s 257us/step - loss: 0.2053 - accuracy: 0.9466 - val_loss: 1.0634 - val_accuracy: 0.7840\n",
            "Epoch 77/80\n",
            "50000/50000 [==============================] - 13s 256us/step - loss: 0.2157 - accuracy: 0.9442 - val_loss: 0.9908 - val_accuracy: 0.7893\n",
            "Epoch 78/80\n",
            "50000/50000 [==============================] - 12s 249us/step - loss: 0.2064 - accuracy: 0.9466 - val_loss: 1.4539 - val_accuracy: 0.7911\n",
            "Epoch 79/80\n",
            "50000/50000 [==============================] - 13s 253us/step - loss: 0.2032 - accuracy: 0.9474 - val_loss: 1.5583 - val_accuracy: 0.7871\n",
            "Epoch 80/80\n",
            "50000/50000 [==============================] - 13s 251us/step - loss: 0.1976 - accuracy: 0.9485 - val_loss: 1.2664 - val_accuracy: 0.7889\n"
          ],
          "name": "stdout"
        }
      ]
    },
    {
      "cell_type": "code",
      "metadata": {
        "id": "DBDZ-vaDAmj0",
        "colab_type": "code",
        "colab": {
          "base_uri": "https://localhost:8080/",
          "height": 367
        },
        "outputId": "8370bc04-466e-4049-f713-b10b61c9d2d6"
      },
      "source": [
        "def plotmodelhistory(history): \n",
        "    fig, axs = plt.subplots(1,2,figsize=(15,5)) \n",
        "    # summarize history for accuracy\n",
        "    axs[0].plot(history.history['accuracy']) \n",
        "    axs[0].plot(history.history['val_accuracy']) \n",
        "    axs[0].set_title('Model Accuracy')\n",
        "    axs[0].set_ylabel('Accuracy') \n",
        "    axs[0].set_xlabel('Epoch')\n",
        "    axs[0].legend(['train', 'validate'], loc='upper left')\n",
        "    # summarize history for loss\n",
        "    axs[1].plot(history.history['loss']) \n",
        "    axs[1].plot(history.history['val_loss']) \n",
        "    axs[1].set_title('Model Loss')\n",
        "    axs[1].set_ylabel('Loss') \n",
        "    axs[1].set_xlabel('Epoch')\n",
        "    axs[1].legend(['train', 'validate'], loc='upper left')\n",
        "    plt.show()\n",
        "\n",
        "# list all data in history\n",
        "print(history.history.keys())\n",
        "\n",
        "plotmodelhistory(history)"
      ],
      "execution_count": null,
      "outputs": [
        {
          "output_type": "stream",
          "text": [
            "dict_keys(['val_loss', 'val_accuracy', 'loss', 'accuracy'])\n"
          ],
          "name": "stdout"
        },
        {
          "output_type": "display_data",
          "data": {
            "image/png": "[encoded data removed]",
            "text/plain": [
              "<Figure size 1080x360 with 2 Axes>"
            ]
          },
          "metadata": {
            "tags": [],
            "needs_background": "light"
          }
        }
      ]
    }
  ],
  "metadata": {
    "colab": {
      "name": "Copia de Untitled1.ipynb",
      "provenance": []
    },
    "kernelspec": {
      "name": "python3",
      "display_name": "Python 3"
    },
    "accelerator": "GPU"
  },
  "nbformat": 4,
  "nbformat_minor": 0
}