{
 "cells": [
  {
   "cell_type": "code",
   "execution_count": 1,
   "metadata": {},
   "outputs": [
    {
     "output_type": "error",
     "ename": "ModuleNotFoundError",
     "evalue": "No module named 'pandas'",
     "traceback": [
      "\u001b[1;31m---------------------------------------------------------------------------\u001b[0m",
      "\u001b[1;31mModuleNotFoundError\u001b[0m                       Traceback (most recent call last)",
      "\u001b[1;32m<ipython-input-1-912c9e1edc7d>\u001b[0m in \u001b[0;36m<module>\u001b[1;34m\u001b[0m\n\u001b[0;32m      1\u001b[0m \u001b[1;31m# librerías\u001b[0m\u001b[1;33m\u001b[0m\u001b[1;33m\u001b[0m\u001b[1;33m\u001b[0m\u001b[0m\n\u001b[0;32m      2\u001b[0m \u001b[1;32mimport\u001b[0m \u001b[0mrandom\u001b[0m\u001b[1;33m\u001b[0m\u001b[1;33m\u001b[0m\u001b[0m\n\u001b[1;32m----> 3\u001b[1;33m \u001b[1;32mimport\u001b[0m \u001b[0mpandas\u001b[0m \u001b[1;32mas\u001b[0m \u001b[0mpd\u001b[0m\u001b[1;33m\u001b[0m\u001b[1;33m\u001b[0m\u001b[0m\n\u001b[0m",
      "\u001b[1;31mModuleNotFoundError\u001b[0m: No module named 'pandas'"
     ]
    }
   ],
   "source": [
    "# librerías\n",
    "import random\n",
    "import pandas as pd"
   ]
  },
  {
   "cell_type": "code",
   "execution_count": 7,
   "metadata": {},
   "outputs": [
    {
     "output_type": "execute_result",
     "data": {
      "text/plain": "    Cartas  Valores\n0        1      1.0\n1        2      2.0\n2        3      3.0\n3        4      4.0\n4        5      5.0\n5        6      6.0\n6        7      7.0\n7     sota      0.5\n8  caballo      0.5\n9      rey      0.5",
      "text/html": "<div>\n<style scoped>\n    .dataframe tbody tr th:only-of-type {\n        vertical-align: middle;\n    }\n\n    .dataframe tbody tr th {\n        vertical-align: top;\n    }\n\n    .dataframe thead th {\n        text-align: right;\n    }\n</style>\n<table border=\"1\" class=\"dataframe\">\n  <thead>\n    <tr style=\"text-align: right;\">\n      <th></th>\n      <th>Cartas</th>\n      <th>Valores</th>\n    </tr>\n  </thead>\n  <tbody>\n    <tr>\n      <td>0</td>\n      <td>1</td>\n      <td>1.0</td>\n    </tr>\n    <tr>\n      <td>1</td>\n      <td>2</td>\n      <td>2.0</td>\n    </tr>\n    <tr>\n      <td>2</td>\n      <td>3</td>\n      <td>3.0</td>\n    </tr>\n    <tr>\n      <td>3</td>\n      <td>4</td>\n      <td>4.0</td>\n    </tr>\n    <tr>\n      <td>4</td>\n      <td>5</td>\n      <td>5.0</td>\n    </tr>\n    <tr>\n      <td>5</td>\n      <td>6</td>\n      <td>6.0</td>\n    </tr>\n    <tr>\n      <td>6</td>\n      <td>7</td>\n      <td>7.0</td>\n    </tr>\n    <tr>\n      <td>7</td>\n      <td>sota</td>\n      <td>0.5</td>\n    </tr>\n    <tr>\n      <td>8</td>\n      <td>caballo</td>\n      <td>0.5</td>\n    </tr>\n    <tr>\n      <td>9</td>\n      <td>rey</td>\n      <td>0.5</td>\n    </tr>\n  </tbody>\n</table>\n</div>"
     },
     "metadata": {},
     "execution_count": 7
    }
   ],
   "source": [
    "cartas = ['1', '2', '3', '4', '5', '6', '7', 'sota', 'caballo', 'rey']\n",
    "espadas = [1, 2, 3, 4, 5, 6, 7, 0.5, 0.5, 0.5]\n",
    "oros = ['1', '2', '3', '4', '5', '6', '7', 'sota', 'caballo', 'rey']\n",
    "copas = ['1', '2', '3', '4', '5', '6', '7', 'sota', 'caballo', 'rey']\n",
    "\n",
    "\n",
    "baraja = pd.DataFrame({'Cartas': cartas, 'Valores': espadas})\n",
    "baraja"
   ]
  },
  {
   "cell_type": "code",
   "execution_count": 9,
   "metadata": {},
   "outputs": [
    {
     "output_type": "stream",
     "name": "stdout",
     "text": "1Espadas\n2Espadas\n3Espadas\n4Espadas\n5Espadas\n6Espadas\n7Espadas\nsotaEspadas\ncaballoEspadas\nreyEspadas\n"
    }
   ],
   "source": [
    "for e in baraja.Cartas:\n",
    "    print (e + 'Espadas')"
   ]
  },
  {
   "cell_type": "code",
   "execution_count": null,
   "metadata": {},
   "outputs": [],
   "source": [
    "espadas = [['1', 1], '2', '3', '4', '5', '6', '7', 'sota', 'caballo', 'rey']\n",
    "bastos = ['1', '2', '3', '4', '5', '6', '7', 'sota', 'caballo', 'rey']\n",
    "oros = ['1', '2', '3', '4', '5', '6', '7', 'sota', 'caballo', 'rey']\n",
    "copas = ['1', '2', '3', '4', '5', '6', '7', 'sota', 'caballo', 'rey']\n",
    "espadas.shuffle"
   ]
  },
  {
   "cell_type": "code",
   "execution_count": 16,
   "metadata": {},
   "outputs": [
    {
     "output_type": "execute_result",
     "data": {
      "text/plain": "40.9047"
     },
     "metadata": {},
     "execution_count": 16
    }
   ],
   "source": [
    "r = []\n",
    "\n",
    "for e in range(10000):\n",
    "    d1 = random.randint(1, 20)\n",
    "    d2 = random.randint(1, 20)\n",
    "    result = d1 + d2\n",
    "    r.append(result)\n",
    "\n",
    "sum(r)/10000 +20\n"
   ]
  }
 ],
 "metadata": {
  "language_info": {
   "codemirror_mode": {
    "name": "ipython",
    "version": 3
   },
   "file_extension": ".py",
   "mimetype": "text/x-python",
   "name": "python",
   "nbconvert_exporter": "python",
   "pygments_lexer": "ipython3",
   "version": "3.9.2-final"
  },
  "orig_nbformat": 2,
  "kernelspec": {
   "name": "python3",
   "display_name": "Python 3.9.2 64-bit",
   "metadata": {
    "interpreter": {
     "hash": "fa281aee82f4477ae52abf752de28cd069eade5886616c2da4ed23d36079b5d2"
    }
   }
  }
 },
 "nbformat": 4,
 "nbformat_minor": 2
}