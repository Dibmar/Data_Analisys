{
 "cells": [
  {
   "cell_type": "code",
   "execution_count": 1,
   "metadata": {},
   "outputs": [],
   "source": [
    "import random\n",
    "import pandas as pd"
   ]
  },
  {
   "cell_type": "code",
   "execution_count": 84,
   "metadata": {},
   "outputs": [],
   "source": [
    "game_outcome = []\n",
    "victory = 0\n",
    "defeat = 0"
   ]
  },
  {
   "cell_type": "code",
   "execution_count": 88,
   "metadata": {},
   "outputs": [],
   "source": [
    "def game (victory, defeat):\n",
    "    def door ():\n",
    "        door_list = []\n",
    "        door = 0\n",
    "        for e in range(3):\n",
    "            door = door + 1\n",
    "            door_list.append(door)\n",
    "        random.shuffle(door_list)\n",
    "        return door_list\n",
    "\n",
    "    def door_nuke (door_list, prize_door, select):\n",
    "        n = random.randint(0, 2)\n",
    "        door_list.pop (n != select or door_list[n] != prize_door)\n",
    "        return door_list\n",
    "\n",
    "    def prize (door_list, victory, defeat):\n",
    "        prize_door = 1\n",
    "        # choice = int(input('Take a guess? 1st (0), 2nd (1) or 3rd (2) door'))\n",
    "        choice = random.randint(0,2)\n",
    "        select =  door_list[choice]\n",
    "        door_nuke (door_list, prize_door, select)\n",
    "        # print (\"Do you wanna change?\")\n",
    "        # choice = int(input('Take a guess? 1st (0), 2nd (1) or 3rd (2) door'))\n",
    "        choice = random.randint(0,1)\n",
    "        if select == prize_door:\n",
    "            game_outcome.append(\"Victory\")\n",
    "        \n",
    "        else:\n",
    "            game_outcome.append(\"Defeat\")\n",
    "        \n",
    "            return defeat\n",
    "    door_list =  door()\n",
    "    prize(door_list,victory,defeat)\n",
    "    return victory\n",
    "    return defeat"
   ]
  },
  {
   "cell_type": "code",
   "execution_count": 86,
   "metadata": {},
   "outputs": [
    {
     "output_type": "stream",
     "name": "stdout",
     "text": "D\n"
    },
    {
     "output_type": "execute_result",
     "data": {
      "text/plain": "0"
     },
     "metadata": {},
     "execution_count": 86
    }
   ],
   "source": [
    "game(victory = victory, defeat = defeat)"
   ]
  },
  {
   "cell_type": "code",
   "execution_count": 97,
   "metadata": {
    "tags": [
     "outputPrepend"
    ]
   },
   "outputs": [
    {
     "output_type": "execute_result",
     "data": {
      "text/plain": "(Defeat     66612\n Victory    33389\n Name: results, dtype: int64, [66612, 33389])"
     },
     "metadata": {},
     "execution_count": 97
    }
   ],
   "source": [
    "games = {'results': game_outcome}\n",
    "for e in range (10000):\n",
    "    game(victory, defeat)\n",
    "\n",
    "games = pd.DataFrame (games)\n",
    "probs = list(games.results.value_counts())\n",
    "games.results.value_counts(), probs"
   ]
  },
  {
   "cell_type": "code",
   "execution_count": 42,
   "metadata": {},
   "outputs": [],
   "source": [
    "# Armadura\n",
    "armors = {'light': 6, 'medium': 12, 'heavy': 15, 'superheavy': 25}"
   ]
  },
  {
   "cell_type": "code",
   "execution_count": 63,
   "metadata": {},
   "outputs": [
    {
     "output_type": "stream",
     "name": "stdout",
     "text": [
      "Fuerza media: 12.0. Resitencia media: 12.0\n\nArmor: \"light\". Protection: 6. Health: 12.0.\n\t- Damage OneHand: 4.0. Damage TwoHand: 16.0\n\t- Remaining Health OneHand: 8.0, Remaining Health TwoHand: -4.0\n\nArmor: \"medium\". Protection: 12. Health: 12.0.\n\t- Damage OneHand: -2.0. Damage TwoHand: 10.0\n\t- Remaining Health OneHand: 12.0, Remaining Health TwoHand: 2.0\n\nArmor: \"heavy\". Protection: 15. Health: 12.0.\n\t- Damage OneHand: -5.0. Damage TwoHand: 7.0\n\t- Remaining Health OneHand: 12.0, Remaining Health TwoHand: 5.0\n\nArmor: \"superheavy\". Protection: 25. Health: 12.0.\n\t- Damage OneHand: -15.0. Damage TwoHand: -3.0\n\t- Remaining Health OneHand: 12.0, Remaining Health TwoHand: 12.0\n\n"
     ]
    }
   ],
   "source": [
    "ranges = 100000\n",
    "aver_dam = []\n",
    "aver_health = []\n",
    "aver_roll_one_h = []\n",
    "aver_roll_two_h = []\n",
    "\n",
    "\n",
    "for e in range(ranges):\n",
    "    strengh = random.randint(5,18)\n",
    "    health = random.randint(5,18)\n",
    "\n",
    "    aver_dam.append (strengh)\n",
    "    aver_health.append(health)\n",
    "\n",
    "    aver_roll_one = random.randint(1,20)\n",
    "    aver_roll_two = random.randint(4,40)\n",
    "\n",
    "    aver_roll_one_h.append(aver_roll_one)\n",
    "    aver_roll_two_h.append(aver_roll_two)\n",
    "\n",
    "aver_dam = round((sum(aver_dam))/ranges, 0)\n",
    "aver_health = round((sum(aver_health))/ranges, 0)\n",
    "\n",
    "aver_roll_one_h = (sum(aver_roll_one_h))/ranges\n",
    "aver_roll_two_h = (sum(aver_roll_two_h))/ranges\n",
    "print(f'Fuerza media: {aver_dam}. Resitencia media: {aver_health}')\n",
    "print()\n",
    "\n",
    "# Daño 1\n",
    "\n",
    "onehand = 10\n",
    "twohand = 60\n",
    "\n",
    "dam_one = aver_dam + onehand\n",
    "dam_two = aver_dam + twohand\n",
    "\n",
    "for e in range(len(armors.keys())):\n",
    "\n",
    "    armor = list(armors.values())[e]\n",
    "    \n",
    "    damage_one = round(aver_roll_one_h - armor, 0)\n",
    "    damage_two = round(aver_roll_two_h - armor, 0)\n",
    "    \n",
    "    if damage_one > 0:\n",
    "        health_taken_1 = round(aver_health - damage_one, 0)\n",
    "    else:\n",
    "        health_taken_1 = aver_health\n",
    "    if damage_two > 0:\n",
    "        health_taken_2 = round(aver_health - damage_two, 0)\n",
    "    else:\n",
    "        health_taken_2 = aver_health\n",
    "\n",
    "    print (f'Armor: \"{list(armors.keys())[e]}\". Protection: {armor}. Health: {aver_health}.\\n\\t- Damage OneHand: {damage_one}. Damage TwoHand: {damage_two}\\n\\t- Remaining Health OneHand: {health_taken_1}, Remaining Health TwoHand: {health_taken_2}')\n",
    "    print()"
   ]
  }
 ],
 "metadata": {
  "language_info": {
   "codemirror_mode": {
    "name": "ipython",
    "version": 3
   },
   "file_extension": ".py",
   "mimetype": "text/x-python",
   "name": "python",
   "nbconvert_exporter": "python",
   "pygments_lexer": "ipython3",
   "version": "3.7.4-final"
  },
  "orig_nbformat": 2,
  "kernelspec": {
   "name": "python3",
   "display_name": "Python 3"
  }
 },
 "nbformat": 4,
 "nbformat_minor": 2
}