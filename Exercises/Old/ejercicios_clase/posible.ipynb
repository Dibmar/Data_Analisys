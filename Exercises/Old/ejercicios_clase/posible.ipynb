{
 "metadata": {
  "language_info": {
   "codemirror_mode": {
    "name": "ipython",
    "version": 3
   },
   "file_extension": ".py",
   "mimetype": "text/x-python",
   "name": "python",
   "nbconvert_exporter": "python",
   "pygments_lexer": "ipython3",
   "version": "3.7.4-final"
  },
  "orig_nbformat": 2,
  "kernelspec": {
   "name": "python_defaultSpec_1599037826822",
   "display_name": "Python 3.7.4 64-bit ('base': conda)"
  }
 },
 "nbformat": 4,
 "nbformat_minor": 2,
 "cells": [
  {
   "cell_type": "code",
   "execution_count": 4,
   "metadata": {},
   "outputs": [],
   "source": [
    "import numpy as np"
   ]
  },
  {
   "cell_type": "code",
   "execution_count": 21,
   "metadata": {
    "tags": []
   },
   "outputs": [
    {
     "output_type": "stream",
     "name": "stdout",
     "text": "0.52%\n"
    }
   ],
   "source": [
    "cases = 2\n",
    "range_of = 10000\n",
    "results = []\n",
    "\n",
    "for e in range(cases):\n",
    "    for e in range (range_of):\n",
    "        r = np.random.randint(0, 100)\n",
    "        if r <= 25:\n",
    "            x = 1\n",
    "        else:\n",
    "            x = 0\n",
    "        results.append(x)\n",
    "\n",
    "prob = round(sum(results) / range_of, 2)\n",
    "print (f'{prob}%')"
   ]
  },
  {
   "cell_type": "code",
   "execution_count": 1,
   "metadata": {},
   "outputs": [
    {
     "output_type": "execute_result",
     "data": {
      "text/plain": "4"
     },
     "metadata": {},
     "execution_count": 1
    }
   ],
   "source": [
    "gente = ['manuel', 'juana', 'carmen', 'dio']\n",
    "len(gente)"
   ]
  },
  {
   "cell_type": "code",
   "execution_count": 43,
   "metadata": {
    "tags": []
   },
   "outputs": [
    {
     "output_type": "stream",
     "name": "stdout",
     "text": "64.96 %\n32481 / 50000\n\n----------------------------------\n36.74 %\n18369 / 50000\n50000\n"
    }
   ],
   "source": [
    "# Suponiendo un ratio de infección del 100%\n",
    "# ratio de asintomatismo del 80%\n",
    "contagio_asintomatico = []\n",
    "asintomatismo = 80\n",
    "\n",
    "a = 0\n",
    "for e in range(range_of):\n",
    "    a += 1\n",
    "    for e in range(len(gente)):\n",
    "        a += 1\n",
    "        r = np.random.randint(0, 100)\n",
    "        if r <= asintomatismo:\n",
    "            x = 1\n",
    "        else:\n",
    "            x = 0\n",
    "        contagio_asintomatico.append(x)\n",
    "print (round((sum(contagio_asintomatico)/ a)*100,2), '%')\n",
    "print (sum(contagio_asintomatico), '/', a)\n",
    "print('\\n----------------------------------')\n",
    "\n",
    "\n",
    "# ratio del 45%\n",
    "contagio_asintomatico_1 = []\n",
    "asintomatismo = 45\n",
    "\n",
    "a = 0\n",
    "for e in range(range_of):\n",
    "    a += 1\n",
    "    for e in range(len(gente)):\n",
    "        a += 1\n",
    "        r = np.random.randint(0, 100)\n",
    "        if r <= asintomatismo:\n",
    "            x = 1\n",
    "        else:\n",
    "            x = 0\n",
    "        contagio_asintomatico_1.append(x)\n",
    "print (round((sum(contagio_asintomatico_1)/ a)*100,2), '%')\n",
    "print (sum(contagio_asintomatico_1), '/', a)\n",
    "print(a)"
   ]
  }
 ]
}